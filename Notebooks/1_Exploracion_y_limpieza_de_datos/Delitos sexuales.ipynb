{
 "cells": [
  {
   "cell_type": "code",
   "execution_count": 2,
   "id": "a8c8b7ce-90ea-47cd-90ec-9c0c0c06ada2",
   "metadata": {},
   "outputs": [],
   "source": [
    "import pandas as pd\n",
    "from matplotlib import pyplot as plt\n",
    "import seaborn as sns\n",
    "import numpy as np"
   ]
  },
  {
   "cell_type": "code",
   "execution_count": 3,
   "id": "123db99a-9f3f-4167-b410-300605ea7cb2",
   "metadata": {},
   "outputs": [
    {
     "data": {
      "text/html": [
       "<div>\n",
       "<style scoped>\n",
       "    .dataframe tbody tr th:only-of-type {\n",
       "        vertical-align: middle;\n",
       "    }\n",
       "\n",
       "    .dataframe tbody tr th {\n",
       "        vertical-align: top;\n",
       "    }\n",
       "\n",
       "    .dataframe thead th {\n",
       "        text-align: right;\n",
       "    }\n",
       "</style>\n",
       "<table border=\"1\" class=\"dataframe\">\n",
       "  <thead>\n",
       "    <tr style=\"text-align: right;\">\n",
       "      <th></th>\n",
       "      <th>DEPARTAMENTO</th>\n",
       "      <th>MUNICIPIO</th>\n",
       "      <th>CODIGO DANE</th>\n",
       "      <th>ARMAS MEDIOS</th>\n",
       "      <th>FECHA HECHO</th>\n",
       "      <th>GENERO</th>\n",
       "      <th>GRUPO ETARIO</th>\n",
       "      <th>CANTIDAD</th>\n",
       "      <th>delito</th>\n",
       "    </tr>\n",
       "  </thead>\n",
       "  <tbody>\n",
       "    <tr>\n",
       "      <th>0</th>\n",
       "      <td>CAQUETÁ</td>\n",
       "      <td>SOLANO</td>\n",
       "      <td>18756000.0</td>\n",
       "      <td>ARMA BLANCA / CORTOPUNZANTE</td>\n",
       "      <td>1/01/2010</td>\n",
       "      <td>FEMENINO</td>\n",
       "      <td>MENORES</td>\n",
       "      <td>1</td>\n",
       "      <td>ARTÍCULO 209. ACTOS SEXUALES CON MENOR DE 14 AÑOS</td>\n",
       "    </tr>\n",
       "    <tr>\n",
       "      <th>1</th>\n",
       "      <td>BOLÍVAR</td>\n",
       "      <td>CARTAGENA (CT)</td>\n",
       "      <td>13001000.0</td>\n",
       "      <td>ARMA BLANCA / CORTOPUNZANTE</td>\n",
       "      <td>1/01/2010</td>\n",
       "      <td>FEMENINO</td>\n",
       "      <td>ADOLECENTES</td>\n",
       "      <td>1</td>\n",
       "      <td>ARTÍCULO 205. ACCESO CARNAL VIOLENTO</td>\n",
       "    </tr>\n",
       "    <tr>\n",
       "      <th>2</th>\n",
       "      <td>HUILA</td>\n",
       "      <td>LA PLATA</td>\n",
       "      <td>41396000.0</td>\n",
       "      <td>ARMA BLANCA / CORTOPUNZANTE</td>\n",
       "      <td>1/01/2010</td>\n",
       "      <td>FEMENINO</td>\n",
       "      <td>ADULTOS</td>\n",
       "      <td>1</td>\n",
       "      <td>ARTÍCULO 205. ACCESO CARNAL VIOLENTO</td>\n",
       "    </tr>\n",
       "    <tr>\n",
       "      <th>3</th>\n",
       "      <td>SANTANDER</td>\n",
       "      <td>PIEDECUESTA</td>\n",
       "      <td>68547000.0</td>\n",
       "      <td>CONTUNDENTES</td>\n",
       "      <td>1/01/2010</td>\n",
       "      <td>FEMENINO</td>\n",
       "      <td>ADULTOS</td>\n",
       "      <td>1</td>\n",
       "      <td>ARTÍCULO 205. ACCESO CARNAL VIOLENTO</td>\n",
       "    </tr>\n",
       "    <tr>\n",
       "      <th>4</th>\n",
       "      <td>META</td>\n",
       "      <td>VILLAVICENCIO (CT)</td>\n",
       "      <td>50001000.0</td>\n",
       "      <td>CONTUNDENTES</td>\n",
       "      <td>1/01/2010</td>\n",
       "      <td>FEMENINO</td>\n",
       "      <td>ADULTOS</td>\n",
       "      <td>1</td>\n",
       "      <td>ARTÍCULO 205. ACCESO CARNAL VIOLENTO</td>\n",
       "    </tr>\n",
       "    <tr>\n",
       "      <th>...</th>\n",
       "      <td>...</td>\n",
       "      <td>...</td>\n",
       "      <td>...</td>\n",
       "      <td>...</td>\n",
       "      <td>...</td>\n",
       "      <td>...</td>\n",
       "      <td>...</td>\n",
       "      <td>...</td>\n",
       "      <td>...</td>\n",
       "    </tr>\n",
       "    <tr>\n",
       "      <th>260318</th>\n",
       "      <td>VICHADA</td>\n",
       "      <td>PUERTO CARREÑO (CT)</td>\n",
       "      <td>99001000.0</td>\n",
       "      <td>SIN EMPLEO DE ARMAS</td>\n",
       "      <td>15/02/2022</td>\n",
       "      <td>FEMENINO</td>\n",
       "      <td>ADULTOS</td>\n",
       "      <td>1</td>\n",
       "      <td>ARTÍCULO 205. ACCESO CARNAL VIOLENTO</td>\n",
       "    </tr>\n",
       "    <tr>\n",
       "      <th>260319</th>\n",
       "      <td>VICHADA</td>\n",
       "      <td>PUERTO CARREÑO (CT)</td>\n",
       "      <td>99001000.0</td>\n",
       "      <td>SIN EMPLEO DE ARMAS</td>\n",
       "      <td>7/03/2022</td>\n",
       "      <td>FEMENINO</td>\n",
       "      <td>ADULTOS</td>\n",
       "      <td>1</td>\n",
       "      <td>ARTÍCULO 207. ACCESO CARNAL O ACTO SEXUAL EN P...</td>\n",
       "    </tr>\n",
       "    <tr>\n",
       "      <th>260320</th>\n",
       "      <td>VICHADA</td>\n",
       "      <td>PUERTO CARREÑO (CT)</td>\n",
       "      <td>99001000.0</td>\n",
       "      <td>SIN EMPLEO DE ARMAS</td>\n",
       "      <td>17/03/2022</td>\n",
       "      <td>NO REPORTADO</td>\n",
       "      <td>NO REPORTADO</td>\n",
       "      <td>1</td>\n",
       "      <td>ARTÍCULO 209. ACTOS SEXUALES CON MENOR DE 14 AÑOS</td>\n",
       "    </tr>\n",
       "    <tr>\n",
       "      <th>260321</th>\n",
       "      <td>VICHADA</td>\n",
       "      <td>SANTA ROSALÍA</td>\n",
       "      <td>99624000.0</td>\n",
       "      <td>SIN EMPLEO DE ARMAS</td>\n",
       "      <td>22/02/2022</td>\n",
       "      <td>FEMENINO</td>\n",
       "      <td>ADOLESCENTES</td>\n",
       "      <td>1</td>\n",
       "      <td>ARTÍCULO 208. ACCESO CARNAL ABUSIVO CON MENOR ...</td>\n",
       "    </tr>\n",
       "    <tr>\n",
       "      <th>260322</th>\n",
       "      <td>VICHADA</td>\n",
       "      <td>SANTA ROSALÍA</td>\n",
       "      <td>99624000.0</td>\n",
       "      <td>SIN EMPLEO DE ARMAS</td>\n",
       "      <td>4/04/2022</td>\n",
       "      <td>FEMENINO</td>\n",
       "      <td>MENORES</td>\n",
       "      <td>1</td>\n",
       "      <td>ARTÍCULO 210 A. ACOSO SEXUAL</td>\n",
       "    </tr>\n",
       "  </tbody>\n",
       "</table>\n",
       "<p>260323 rows × 9 columns</p>\n",
       "</div>"
      ],
      "text/plain": [
       "       DEPARTAMENTO            MUNICIPIO  CODIGO DANE  \\\n",
       "0           CAQUETÁ               SOLANO   18756000.0   \n",
       "1           BOLÍVAR       CARTAGENA (CT)   13001000.0   \n",
       "2             HUILA             LA PLATA   41396000.0   \n",
       "3         SANTANDER          PIEDECUESTA   68547000.0   \n",
       "4              META   VILLAVICENCIO (CT)   50001000.0   \n",
       "...             ...                  ...          ...   \n",
       "260318      VICHADA  PUERTO CARREÑO (CT)   99001000.0   \n",
       "260319      VICHADA  PUERTO CARREÑO (CT)   99001000.0   \n",
       "260320      VICHADA  PUERTO CARREÑO (CT)   99001000.0   \n",
       "260321      VICHADA        SANTA ROSALÍA   99624000.0   \n",
       "260322      VICHADA        SANTA ROSALÍA   99624000.0   \n",
       "\n",
       "                       ARMAS MEDIOS FECHA HECHO        GENERO  GRUPO ETARIO  \\\n",
       "0       ARMA BLANCA / CORTOPUNZANTE   1/01/2010      FEMENINO       MENORES   \n",
       "1       ARMA BLANCA / CORTOPUNZANTE   1/01/2010      FEMENINO   ADOLECENTES   \n",
       "2       ARMA BLANCA / CORTOPUNZANTE   1/01/2010      FEMENINO       ADULTOS   \n",
       "3                      CONTUNDENTES   1/01/2010      FEMENINO       ADULTOS   \n",
       "4                      CONTUNDENTES   1/01/2010      FEMENINO       ADULTOS   \n",
       "...                             ...         ...           ...           ...   \n",
       "260318          SIN EMPLEO DE ARMAS  15/02/2022      FEMENINO       ADULTOS   \n",
       "260319          SIN EMPLEO DE ARMAS   7/03/2022      FEMENINO       ADULTOS   \n",
       "260320          SIN EMPLEO DE ARMAS  17/03/2022  NO REPORTADO  NO REPORTADO   \n",
       "260321          SIN EMPLEO DE ARMAS  22/02/2022      FEMENINO  ADOLESCENTES   \n",
       "260322          SIN EMPLEO DE ARMAS   4/04/2022      FEMENINO       MENORES   \n",
       "\n",
       "        CANTIDAD                                             delito  \n",
       "0              1  ARTÍCULO 209. ACTOS SEXUALES CON MENOR DE 14 AÑOS  \n",
       "1              1               ARTÍCULO 205. ACCESO CARNAL VIOLENTO  \n",
       "2              1               ARTÍCULO 205. ACCESO CARNAL VIOLENTO  \n",
       "3              1               ARTÍCULO 205. ACCESO CARNAL VIOLENTO  \n",
       "4              1               ARTÍCULO 205. ACCESO CARNAL VIOLENTO  \n",
       "...          ...                                                ...  \n",
       "260318         1               ARTÍCULO 205. ACCESO CARNAL VIOLENTO  \n",
       "260319         1  ARTÍCULO 207. ACCESO CARNAL O ACTO SEXUAL EN P...  \n",
       "260320         1  ARTÍCULO 209. ACTOS SEXUALES CON MENOR DE 14 AÑOS  \n",
       "260321         1  ARTÍCULO 208. ACCESO CARNAL ABUSIVO CON MENOR ...  \n",
       "260322         1                       ARTÍCULO 210 A. ACOSO SEXUAL  \n",
       "\n",
       "[260323 rows x 9 columns]"
      ]
     },
     "execution_count": 3,
     "metadata": {},
     "output_type": "execute_result"
    }
   ],
   "source": [
    "delitos_sexuales_df = pd.read_csv('../../Data/Reporte__Delitos_sexuales_Polic_a_Nacional.csv')\n",
    "delitos_sexuales_df"
   ]
  },
  {
   "cell_type": "markdown",
   "id": "fcc96f4e-d390-4dce-a6cf-7b96572b182f",
   "metadata": {},
   "source": [
    "# 1. Exploracion de los datos"
   ]
  },
  {
   "cell_type": "code",
   "execution_count": 4,
   "id": "68478228-e506-428a-81bb-b76ac736d72d",
   "metadata": {},
   "outputs": [
    {
     "data": {
      "text/plain": [
       "(260323, 9)"
      ]
     },
     "execution_count": 4,
     "metadata": {},
     "output_type": "execute_result"
    }
   ],
   "source": [
    "delitos_sexuales_df.shape"
   ]
  },
  {
   "cell_type": "code",
   "execution_count": 5,
   "id": "5ecfdf4d-b2d4-4839-b759-4c623ce14e27",
   "metadata": {},
   "outputs": [
    {
     "data": {
      "text/plain": [
       "DEPARTAMENTO     object\n",
       "MUNICIPIO        object\n",
       "CODIGO DANE     float64\n",
       "ARMAS MEDIOS     object\n",
       "FECHA HECHO      object\n",
       "GENERO           object\n",
       "GRUPO ETARIO     object\n",
       "CANTIDAD          int64\n",
       "delito           object\n",
       "dtype: object"
      ]
     },
     "execution_count": 5,
     "metadata": {},
     "output_type": "execute_result"
    }
   ],
   "source": [
    "delitos_sexuales_df.dtypes"
   ]
  },
  {
   "cell_type": "markdown",
   "id": "cadb7504-2d98-4973-89c7-70a65177f3b8",
   "metadata": {},
   "source": [
    "### Revision de datos NaN o faltantes"
   ]
  },
  {
   "cell_type": "code",
   "execution_count": 6,
   "id": "84d04008-c663-4010-a412-b8030169333e",
   "metadata": {},
   "outputs": [
    {
     "data": {
      "text/plain": [
       "DEPARTAMENTO      0\n",
       "MUNICIPIO         1\n",
       "CODIGO DANE       1\n",
       "ARMAS MEDIOS      0\n",
       "FECHA HECHO       0\n",
       "GENERO          304\n",
       "GRUPO ETARIO    537\n",
       "CANTIDAD          0\n",
       "delito            0\n",
       "dtype: int64"
      ]
     },
     "execution_count": 6,
     "metadata": {},
     "output_type": "execute_result"
    }
   ],
   "source": [
    "delitos_sexuales_df.isna().sum()"
   ]
  },
  {
   "cell_type": "code",
   "execution_count": null,
   "id": "fdd08830-cc0c-42e9-930d-a8b9e71b78a5",
   "metadata": {},
   "outputs": [],
   "source": []
  },
  {
   "cell_type": "markdown",
   "id": "6ba6da7e-93d0-4695-82a8-c298265693a2",
   "metadata": {},
   "source": [
    "## 1.1 Analizando la columna DEPARTAMENTO"
   ]
  },
  {
   "cell_type": "code",
   "execution_count": 8,
   "id": "91098147-06a2-4ba5-a0fa-0b0660594e70",
   "metadata": {
    "tags": []
   },
   "outputs": [
    {
     "data": {
      "text/plain": [
       "['AMAZONAS',\n",
       " 'ANTIOQUIA',\n",
       " 'ARAUCA',\n",
       " 'ATLÁNTICO',\n",
       " 'BOLÍVAR',\n",
       " 'BOYACÁ',\n",
       " 'CALDAS',\n",
       " 'CAQUETÁ',\n",
       " 'CASANARE',\n",
       " 'CAUCA',\n",
       " 'CESAR',\n",
       " 'CHOCÓ',\n",
       " 'CUNDINAMARCA',\n",
       " 'CÓRDOBA',\n",
       " 'GUAINÍA',\n",
       " 'GUAJIRA',\n",
       " 'GUAVIARE',\n",
       " 'HUILA',\n",
       " 'MAGDALENA',\n",
       " 'META',\n",
       " 'NARIÑO',\n",
       " 'NORTE DE SANTANDER',\n",
       " 'PUTUMAYO',\n",
       " 'QUINDÍO',\n",
       " 'RISARALDA',\n",
       " 'SAN ANDRÉS',\n",
       " 'SANTANDER',\n",
       " 'SUCRE',\n",
       " 'TOLIMA',\n",
       " 'VALLE',\n",
       " 'VAUPÉS',\n",
       " 'VICHADA']"
      ]
     },
     "execution_count": 8,
     "metadata": {},
     "output_type": "execute_result"
    }
   ],
   "source": [
    "departamentos = list(delitos_sexuales_df['DEPARTAMENTO'].unique())\n",
    "departamentos.sort()\n",
    "departamentos"
   ]
  },
  {
   "cell_type": "code",
   "execution_count": 9,
   "id": "d8a20a57-7794-4d3c-afe5-d460d9eea31a",
   "metadata": {},
   "outputs": [
    {
     "data": {
      "text/plain": [
       "32"
      ]
     },
     "execution_count": 9,
     "metadata": {},
     "output_type": "execute_result"
    }
   ],
   "source": [
    "len(departamentos)"
   ]
  },
  {
   "cell_type": "code",
   "execution_count": 10,
   "id": "07fb3540-f09f-4690-a7ae-91197211ed14",
   "metadata": {},
   "outputs": [
    {
     "data": {
      "text/plain": [
       "<AxesSubplot:xlabel='Count', ylabel='DEPARTAMENTO'>"
      ]
     },
     "execution_count": 10,
     "metadata": {},
     "output_type": "execute_result"
    },
    {
     "data": {
      "image/png": "[encoded data removed]",
      "text/plain": [
       "<Figure size 1080x576 with 1 Axes>"
      ]
     },
     "metadata": {
      "needs_background": "light"
     },
     "output_type": "display_data"
    }
   ],
   "source": [
    "plt.figure(figsize=(15,8))\n",
    "sns.histplot(data=delitos_sexuales_df, y=\"DEPARTAMENTO\")"
   ]
  },
  {
   "cell_type": "markdown",
   "id": "93475eb2-5f5e-417b-8140-a52046bd633a",
   "metadata": {},
   "source": [
    "## 1.2 Analizando la columna MUNICIPIO"
   ]
  },
  {
   "cell_type": "code",
   "execution_count": 17,
   "id": "eed609df-a65d-4aa6-8215-9961ef4f66db",
   "metadata": {},
   "outputs": [
    {
     "data": {
      "text/plain": [
       "['SOLANO',\n",
       " 'CARTAGENA (CT)',\n",
       " 'LA PLATA',\n",
       " 'PIEDECUESTA',\n",
       " 'VILLAVICENCIO (CT)',\n",
       " 'BOGOTÁ D.C. (CT)',\n",
       " 'PAYA',\n",
       " 'CALI (CT)',\n",
       " 'SAN VICENTE DEL CAGUÁN',\n",
       " 'RIOHACHA (CT)']"
      ]
     },
     "execution_count": 17,
     "metadata": {},
     "output_type": "execute_result"
    }
   ],
   "source": [
    "municipios =  list(delitos_sexuales_df['MUNICIPIO'].unique())\n",
    "municipios[:10]"
   ]
  },
  {
   "cell_type": "code",
   "execution_count": 18,
   "id": "eccb8ef4-0269-4e1d-a0e0-8d129a17d2d7",
   "metadata": {},
   "outputs": [
    {
     "data": {
      "text/plain": [
       "1023"
      ]
     },
     "execution_count": 18,
     "metadata": {},
     "output_type": "execute_result"
    }
   ],
   "source": [
    "len(municipios)"
   ]
  },
  {
   "cell_type": "markdown",
   "id": "b39bca00-1254-42d0-8fae-f8c4f736e164",
   "metadata": {},
   "source": [
    "## 1.3 Analizando la columna ARMAS MEDIOS"
   ]
  },
  {
   "cell_type": "code",
   "execution_count": 20,
   "id": "6b37c1c6-a0a9-483d-ab53-4fe96e2e9833",
   "metadata": {},
   "outputs": [
    {
     "data": {
      "text/plain": [
       "['ARMA BLANCA / CORTOPUNZANTE',\n",
       " 'CONTUNDENTES',\n",
       " 'NO REPORTADO',\n",
       " 'SIN EMPLEO DE ARMAS',\n",
       " 'ARMA DE FUEGO',\n",
       " 'CORTOPUNZANTES',\n",
       " 'ESCOPOLAMINA',\n",
       " 'LICOR ADULTERADO',\n",
       " 'CINTAS/CINTURON',\n",
       " 'CORTANTES',\n",
       " 'ESPOSAS',\n",
       " 'ARMAS BLANCAS',\n",
       " '-']"
      ]
     },
     "execution_count": 20,
     "metadata": {},
     "output_type": "execute_result"
    }
   ],
   "source": [
    "list(delitos_sexuales_df['ARMAS MEDIOS'].unique())"
   ]
  },
  {
   "cell_type": "code",
   "execution_count": 21,
   "id": "6f31b2ea-a796-4930-a3d4-563220e414b3",
   "metadata": {},
   "outputs": [
    {
     "data": {
      "text/plain": [
       "<AxesSubplot:xlabel='Count', ylabel='ARMAS MEDIOS'>"
      ]
     },
     "execution_count": 21,
     "metadata": {},
     "output_type": "execute_result"
    },
    {
     "data": {
      "image/png": "[encoded data removed]",
      "text/plain": [
       "<Figure size 1080x576 with 1 Axes>"
      ]
     },
     "metadata": {
      "needs_background": "light"
     },
     "output_type": "display_data"
    }
   ],
   "source": [
    "plt.figure(figsize=(15,8))\n",
    "sns.histplot(data=delitos_sexuales_df, y=\"ARMAS MEDIOS\")"
   ]
  },
  {
   "cell_type": "markdown",
   "id": "54e557fd-ba61-4159-a755-f9cd967fa398",
   "metadata": {},
   "source": [
    "## 1.4 Analizando la columna GENERO"
   ]
  },
  {
   "cell_type": "code",
   "execution_count": 22,
   "id": "9abb961a-55bc-459a-88ba-85c96fb6a85d",
   "metadata": {},
   "outputs": [
    {
     "data": {
      "text/plain": [
       "['FEMENINO', 'MASCULINO', 'NO REPORTA', nan, '-', 'NO REPORTADO']"
      ]
     },
     "execution_count": 22,
     "metadata": {},
     "output_type": "execute_result"
    }
   ],
   "source": [
    "list(delitos_sexuales_df['GENERO'].unique())"
   ]
  },
  {
   "cell_type": "code",
   "execution_count": 23,
   "id": "f332037b-52d3-4bb3-b04c-6453d500264d",
   "metadata": {},
   "outputs": [
    {
     "data": {
      "text/plain": [
       "<AxesSubplot:xlabel='Count', ylabel='GENERO'>"
      ]
     },
     "execution_count": 23,
     "metadata": {},
     "output_type": "execute_result"
    },
    {
     "data": {
      "image/png": "[encoded data removed]",
      "text/plain": [
       "<Figure size 1080x576 with 1 Axes>"
      ]
     },
     "metadata": {
      "needs_background": "light"
     },
     "output_type": "display_data"
    }
   ],
   "source": [
    "plt.figure(figsize=(15,8))\n",
    "sns.histplot(data=delitos_sexuales_df, y=\"GENERO\")"
   ]
  },
  {
   "cell_type": "markdown",
   "id": "e5a321fc-96ec-40a1-8dac-341593121f12",
   "metadata": {},
   "source": [
    "## 1.5 Analizando la columna GRUPO ETARÍO"
   ]
  },
  {
   "cell_type": "code",
   "execution_count": 25,
   "id": "ffdb947b-a59d-4571-b018-8c2b84dc6228",
   "metadata": {},
   "outputs": [
    {
     "data": {
      "text/plain": [
       "['MENORES',\n",
       " 'ADOLECENTES',\n",
       " 'ADULTOS',\n",
       " nan,\n",
       " 'ADOLESCENTES',\n",
       " 'NO REPORTA',\n",
       " 'NO REPORTADO']"
      ]
     },
     "execution_count": 25,
     "metadata": {},
     "output_type": "execute_result"
    }
   ],
   "source": [
    "list(delitos_sexuales_df['GRUPO ETARIO'].unique())"
   ]
  },
  {
   "cell_type": "code",
   "execution_count": 26,
   "id": "2f3f9d8b-79c2-452d-b440-40b5c8ab7980",
   "metadata": {},
   "outputs": [
    {
     "data": {
      "text/plain": [
       "<AxesSubplot:xlabel='Count', ylabel='GRUPO ETARIO'>"
      ]
     },
     "execution_count": 26,
     "metadata": {},
     "output_type": "execute_result"
    },
    {
     "data": {
      "image/png": "[encoded data removed]",
      "text/plain": [
       "<Figure size 1080x576 with 1 Axes>"
      ]
     },
     "metadata": {
      "needs_background": "light"
     },
     "output_type": "display_data"
    }
   ],
   "source": [
    "plt.figure(figsize=(15,8))\n",
    "sns.histplot(data=delitos_sexuales_df, y=\"GRUPO ETARIO\")"
   ]
  },
  {
   "cell_type": "markdown",
   "id": "781774f8-3b7c-4db2-9107-118197037aea",
   "metadata": {},
   "source": [
    "## 1.6 Analizando la columna CANTIDAD"
   ]
  },
  {
   "cell_type": "code",
   "execution_count": 27,
   "id": "fa8c1ae9-f638-450c-a994-4128a44de716",
   "metadata": {},
   "outputs": [
    {
     "data": {
      "text/plain": [
       "<AxesSubplot:xlabel='Count', ylabel='CANTIDAD'>"
      ]
     },
     "execution_count": 27,
     "metadata": {},
     "output_type": "execute_result"
    },
    {
     "data": {
      "image/png": "[encoded data removed]",
      "text/plain": [
       "<Figure size 1080x576 with 1 Axes>"
      ]
     },
     "metadata": {
      "needs_background": "light"
     },
     "output_type": "display_data"
    }
   ],
   "source": [
    "plt.figure(figsize=(15,8))\n",
    "sns.histplot(data=delitos_sexuales_df, y=\"CANTIDAD\")"
   ]
  },
  {
   "cell_type": "markdown",
   "id": "d5860560-878f-4cdb-bd67-92d2c732f570",
   "metadata": {},
   "source": [
    "## 1.7 Analizando la columna delito"
   ]
  },
  {
   "cell_type": "code",
   "execution_count": 29,
   "id": "aa4f9b06-0fa4-4820-9843-a72979dc0bc3",
   "metadata": {},
   "outputs": [
    {
     "data": {
      "text/plain": [
       "['ARTÍCULO 209. ACTOS SEXUALES CON MENOR DE 14 AÑOS',\n",
       " 'ARTÍCULO 205. ACCESO CARNAL VIOLENTO',\n",
       " 'ARTÍCULO 206. ACTO SEXUAL VIOLENTO',\n",
       " 'ARTÍCULO 208. ACCESO CARNAL ABUSIVO CON MENOR DE 14 AÑOS',\n",
       " 'ARTÍCULO 210 A. ACOSO SEXUAL',\n",
       " 'ARTÍCULO 210. ACCESO CARNAL O ACTO SEXUAL ABUSIVO CON INCAPAZ DE RESISTIR',\n",
       " 'ARTÍCULO 211. ACCESO CARNAL O ACTO SEXUAL ABUSIVO CON INCAPAZ DE RESISTIR (CIRCUNSTANCIAS AGRAVACIÓN',\n",
       " 'ARTÍCULO 211. ACCESO CARNAL ABUSIVO CON MENOR DE 14 AÑOS (CIRCUNSTANCIAS AGRAVACIÓN)',\n",
       " 'ARTÍCULO 211. ACTOS SEXUALES CON MENOR DE 14 AÑOS (CIRCUNSTANCIAS DE AGRAVACIÓN)',\n",
       " 'ARTÍCULO 207. ACCESO CARNAL O ACTO SEXUAL EN PERSONA PUESTA EN INCAPACIDAD DE RESISTIR',\n",
       " 'ARTÍCULO 211. ACCESO CARNAL VIOLENTO (CIRCUNSTANCIAS AGRAVACIÓN)',\n",
       " 'ARTÍCULO 218. PORNOGRAFÍA CON MENORES',\n",
       " 'ARTÍCULO 213. INDUCCIÓN A LA PROSTITUCIÓN',\n",
       " 'ARTÍCULO 211. ACCESO CARNAL O ACTO SEXUAL EN PERSONA PUESTA EN INCAPACIDAD DE RESISTIR  (CIRCUNSTANC',\n",
       " 'ARTÍCULO 211. ACTO SEXUAL VIOLENTO (CIRCUNSTANCIAS DE AGRAVACIÓN)',\n",
       " 'ARTÍCULO 214. CONSTREÑIMIENTO A LA PROSTITUCIÓN',\n",
       " 'ARTÍCULO 219 A. UTILIZACIÓN O FACILITACIÓN DE MEDIOS DE COMUNICACIÓN PARA OFRECER SERVICIOS SEXUALES DE MENORES',\n",
       " 'ARTÍCULO 217. ESTÍMULO A LA PROSTITUCIÓN DE MENORES',\n",
       " 'ARTÍCULO 217 A. DEMANDA DE EXPLOTACION SEXUAL COMERCIAL DE PERSONA MENOR DE 18 AÑOS DE EDAD',\n",
       " 'ARTÍCULO 216. CONSTREÑIMIENTO A LA PROSTITUCIÓN (CIRCUNSTANCIAS AGRAVACIÓN)',\n",
       " 'ARTÍCULO 213 A. PROXENETISMO CON MENOR DE EDAD',\n",
       " 'ARTÍCULO 216. INDUCCIÓN A LA PROSTITUCIÓN (CIRCUNSTANCIAS AGRAVACIÓN)',\n",
       " 'ARTÍCULO 219 B. OMISIÓN DE DENUNCIA']"
      ]
     },
     "execution_count": 29,
     "metadata": {},
     "output_type": "execute_result"
    }
   ],
   "source": [
    "list(delitos_sexuales_df['delito'].unique())"
   ]
  },
  {
   "cell_type": "code",
   "execution_count": 30,
   "id": "07e57c55-a584-4044-ba93-47ca73fccf38",
   "metadata": {},
   "outputs": [
    {
     "data": {
      "text/plain": [
       "<AxesSubplot:xlabel='Count', ylabel='delito'>"
      ]
     },
     "execution_count": 30,
     "metadata": {},
     "output_type": "execute_result"
    },
    {
     "data": {
      "image/png": "[encoded data removed]",
      "text/plain": [
       "<Figure size 1080x576 with 1 Axes>"
      ]
     },
     "metadata": {
      "needs_background": "light"
     },
     "output_type": "display_data"
    }
   ],
   "source": [
    "plt.figure(figsize=(15,8))\n",
    "sns.histplot(data=delitos_sexuales_df, y=\"delito\")"
   ]
  },
  {
   "cell_type": "code",
   "execution_count": null,
   "id": "9ab2fb71-8294-47cc-a714-5ed0c0de6f05",
   "metadata": {},
   "outputs": [],
   "source": []
  },
  {
   "cell_type": "markdown",
   "id": "6b578ef9-2743-4314-9188-e6e9faad124f",
   "metadata": {},
   "source": [
    "# 2. Limpieza y transformacion de los datos"
   ]
  },
  {
   "cell_type": "markdown",
   "id": "0cd681d3-462f-412b-8c53-62d16e189a19",
   "metadata": {},
   "source": [
    "## 2.1. Eliminacion de los registros incompletos "
   ]
  },
  {
   "cell_type": "code",
   "execution_count": 35,
   "id": "2aa6a4a8-0c08-4587-a64f-87ac3eb97a17",
   "metadata": {},
   "outputs": [
    {
     "data": {
      "text/html": [
       "<div>\n",
       "<style scoped>\n",
       "    .dataframe tbody tr th:only-of-type {\n",
       "        vertical-align: middle;\n",
       "    }\n",
       "\n",
       "    .dataframe tbody tr th {\n",
       "        vertical-align: top;\n",
       "    }\n",
       "\n",
       "    .dataframe thead th {\n",
       "        text-align: right;\n",
       "    }\n",
       "</style>\n",
       "<table border=\"1\" class=\"dataframe\">\n",
       "  <thead>\n",
       "    <tr style=\"text-align: right;\">\n",
       "      <th></th>\n",
       "      <th>DEPARTAMENTO</th>\n",
       "      <th>MUNICIPIO</th>\n",
       "      <th>CODIGO DANE</th>\n",
       "      <th>ARMAS MEDIOS</th>\n",
       "      <th>FECHA HECHO</th>\n",
       "      <th>GENERO</th>\n",
       "      <th>GRUPO ETARIO</th>\n",
       "      <th>CANTIDAD</th>\n",
       "      <th>delito</th>\n",
       "    </tr>\n",
       "  </thead>\n",
       "  <tbody>\n",
       "    <tr>\n",
       "      <th>0</th>\n",
       "      <td>CAQUETÁ</td>\n",
       "      <td>SOLANO</td>\n",
       "      <td>18756000.0</td>\n",
       "      <td>ARMA BLANCA / CORTOPUNZANTE</td>\n",
       "      <td>1/01/2010</td>\n",
       "      <td>FEMENINO</td>\n",
       "      <td>MENORES</td>\n",
       "      <td>1</td>\n",
       "      <td>ARTÍCULO 209. ACTOS SEXUALES CON MENOR DE 14 AÑOS</td>\n",
       "    </tr>\n",
       "    <tr>\n",
       "      <th>1</th>\n",
       "      <td>BOLÍVAR</td>\n",
       "      <td>CARTAGENA (CT)</td>\n",
       "      <td>13001000.0</td>\n",
       "      <td>ARMA BLANCA / CORTOPUNZANTE</td>\n",
       "      <td>1/01/2010</td>\n",
       "      <td>FEMENINO</td>\n",
       "      <td>ADOLECENTES</td>\n",
       "      <td>1</td>\n",
       "      <td>ARTÍCULO 205. ACCESO CARNAL VIOLENTO</td>\n",
       "    </tr>\n",
       "    <tr>\n",
       "      <th>2</th>\n",
       "      <td>HUILA</td>\n",
       "      <td>LA PLATA</td>\n",
       "      <td>41396000.0</td>\n",
       "      <td>ARMA BLANCA / CORTOPUNZANTE</td>\n",
       "      <td>1/01/2010</td>\n",
       "      <td>FEMENINO</td>\n",
       "      <td>ADULTOS</td>\n",
       "      <td>1</td>\n",
       "      <td>ARTÍCULO 205. ACCESO CARNAL VIOLENTO</td>\n",
       "    </tr>\n",
       "    <tr>\n",
       "      <th>3</th>\n",
       "      <td>SANTANDER</td>\n",
       "      <td>PIEDECUESTA</td>\n",
       "      <td>68547000.0</td>\n",
       "      <td>CONTUNDENTES</td>\n",
       "      <td>1/01/2010</td>\n",
       "      <td>FEMENINO</td>\n",
       "      <td>ADULTOS</td>\n",
       "      <td>1</td>\n",
       "      <td>ARTÍCULO 205. ACCESO CARNAL VIOLENTO</td>\n",
       "    </tr>\n",
       "    <tr>\n",
       "      <th>4</th>\n",
       "      <td>META</td>\n",
       "      <td>VILLAVICENCIO (CT)</td>\n",
       "      <td>50001000.0</td>\n",
       "      <td>CONTUNDENTES</td>\n",
       "      <td>1/01/2010</td>\n",
       "      <td>FEMENINO</td>\n",
       "      <td>ADULTOS</td>\n",
       "      <td>1</td>\n",
       "      <td>ARTÍCULO 205. ACCESO CARNAL VIOLENTO</td>\n",
       "    </tr>\n",
       "    <tr>\n",
       "      <th>...</th>\n",
       "      <td>...</td>\n",
       "      <td>...</td>\n",
       "      <td>...</td>\n",
       "      <td>...</td>\n",
       "      <td>...</td>\n",
       "      <td>...</td>\n",
       "      <td>...</td>\n",
       "      <td>...</td>\n",
       "      <td>...</td>\n",
       "    </tr>\n",
       "    <tr>\n",
       "      <th>260318</th>\n",
       "      <td>VICHADA</td>\n",
       "      <td>PUERTO CARREÑO (CT)</td>\n",
       "      <td>99001000.0</td>\n",
       "      <td>SIN EMPLEO DE ARMAS</td>\n",
       "      <td>15/02/2022</td>\n",
       "      <td>FEMENINO</td>\n",
       "      <td>ADULTOS</td>\n",
       "      <td>1</td>\n",
       "      <td>ARTÍCULO 205. ACCESO CARNAL VIOLENTO</td>\n",
       "    </tr>\n",
       "    <tr>\n",
       "      <th>260319</th>\n",
       "      <td>VICHADA</td>\n",
       "      <td>PUERTO CARREÑO (CT)</td>\n",
       "      <td>99001000.0</td>\n",
       "      <td>SIN EMPLEO DE ARMAS</td>\n",
       "      <td>7/03/2022</td>\n",
       "      <td>FEMENINO</td>\n",
       "      <td>ADULTOS</td>\n",
       "      <td>1</td>\n",
       "      <td>ARTÍCULO 207. ACCESO CARNAL O ACTO SEXUAL EN P...</td>\n",
       "    </tr>\n",
       "    <tr>\n",
       "      <th>260320</th>\n",
       "      <td>VICHADA</td>\n",
       "      <td>PUERTO CARREÑO (CT)</td>\n",
       "      <td>99001000.0</td>\n",
       "      <td>SIN EMPLEO DE ARMAS</td>\n",
       "      <td>17/03/2022</td>\n",
       "      <td>NO REPORTADO</td>\n",
       "      <td>NO REPORTADO</td>\n",
       "      <td>1</td>\n",
       "      <td>ARTÍCULO 209. ACTOS SEXUALES CON MENOR DE 14 AÑOS</td>\n",
       "    </tr>\n",
       "    <tr>\n",
       "      <th>260321</th>\n",
       "      <td>VICHADA</td>\n",
       "      <td>SANTA ROSALÍA</td>\n",
       "      <td>99624000.0</td>\n",
       "      <td>SIN EMPLEO DE ARMAS</td>\n",
       "      <td>22/02/2022</td>\n",
       "      <td>FEMENINO</td>\n",
       "      <td>ADOLESCENTES</td>\n",
       "      <td>1</td>\n",
       "      <td>ARTÍCULO 208. ACCESO CARNAL ABUSIVO CON MENOR ...</td>\n",
       "    </tr>\n",
       "    <tr>\n",
       "      <th>260322</th>\n",
       "      <td>VICHADA</td>\n",
       "      <td>SANTA ROSALÍA</td>\n",
       "      <td>99624000.0</td>\n",
       "      <td>SIN EMPLEO DE ARMAS</td>\n",
       "      <td>4/04/2022</td>\n",
       "      <td>FEMENINO</td>\n",
       "      <td>MENORES</td>\n",
       "      <td>1</td>\n",
       "      <td>ARTÍCULO 210 A. ACOSO SEXUAL</td>\n",
       "    </tr>\n",
       "  </tbody>\n",
       "</table>\n",
       "<p>259481 rows × 9 columns</p>\n",
       "</div>"
      ],
      "text/plain": [
       "       DEPARTAMENTO            MUNICIPIO  CODIGO DANE  \\\n",
       "0           CAQUETÁ               SOLANO   18756000.0   \n",
       "1           BOLÍVAR       CARTAGENA (CT)   13001000.0   \n",
       "2             HUILA             LA PLATA   41396000.0   \n",
       "3         SANTANDER          PIEDECUESTA   68547000.0   \n",
       "4              META   VILLAVICENCIO (CT)   50001000.0   \n",
       "...             ...                  ...          ...   \n",
       "260318      VICHADA  PUERTO CARREÑO (CT)   99001000.0   \n",
       "260319      VICHADA  PUERTO CARREÑO (CT)   99001000.0   \n",
       "260320      VICHADA  PUERTO CARREÑO (CT)   99001000.0   \n",
       "260321      VICHADA        SANTA ROSALÍA   99624000.0   \n",
       "260322      VICHADA        SANTA ROSALÍA   99624000.0   \n",
       "\n",
       "                       ARMAS MEDIOS FECHA HECHO        GENERO  GRUPO ETARIO  \\\n",
       "0       ARMA BLANCA / CORTOPUNZANTE   1/01/2010      FEMENINO       MENORES   \n",
       "1       ARMA BLANCA / CORTOPUNZANTE   1/01/2010      FEMENINO   ADOLECENTES   \n",
       "2       ARMA BLANCA / CORTOPUNZANTE   1/01/2010      FEMENINO       ADULTOS   \n",
       "3                      CONTUNDENTES   1/01/2010      FEMENINO       ADULTOS   \n",
       "4                      CONTUNDENTES   1/01/2010      FEMENINO       ADULTOS   \n",
       "...                             ...         ...           ...           ...   \n",
       "260318          SIN EMPLEO DE ARMAS  15/02/2022      FEMENINO       ADULTOS   \n",
       "260319          SIN EMPLEO DE ARMAS   7/03/2022      FEMENINO       ADULTOS   \n",
       "260320          SIN EMPLEO DE ARMAS  17/03/2022  NO REPORTADO  NO REPORTADO   \n",
       "260321          SIN EMPLEO DE ARMAS  22/02/2022      FEMENINO  ADOLESCENTES   \n",
       "260322          SIN EMPLEO DE ARMAS   4/04/2022      FEMENINO       MENORES   \n",
       "\n",
       "        CANTIDAD                                             delito  \n",
       "0              1  ARTÍCULO 209. ACTOS SEXUALES CON MENOR DE 14 AÑOS  \n",
       "1              1               ARTÍCULO 205. ACCESO CARNAL VIOLENTO  \n",
       "2              1               ARTÍCULO 205. ACCESO CARNAL VIOLENTO  \n",
       "3              1               ARTÍCULO 205. ACCESO CARNAL VIOLENTO  \n",
       "4              1               ARTÍCULO 205. ACCESO CARNAL VIOLENTO  \n",
       "...          ...                                                ...  \n",
       "260318         1               ARTÍCULO 205. ACCESO CARNAL VIOLENTO  \n",
       "260319         1  ARTÍCULO 207. ACCESO CARNAL O ACTO SEXUAL EN P...  \n",
       "260320         1  ARTÍCULO 209. ACTOS SEXUALES CON MENOR DE 14 AÑOS  \n",
       "260321         1  ARTÍCULO 208. ACCESO CARNAL ABUSIVO CON MENOR ...  \n",
       "260322         1                       ARTÍCULO 210 A. ACOSO SEXUAL  \n",
       "\n",
       "[259481 rows x 9 columns]"
      ]
     },
     "execution_count": 35,
     "metadata": {},
     "output_type": "execute_result"
    }
   ],
   "source": [
    "delitos_sexuales_df = delitos_sexuales_df.dropna()\n",
    "delitos_sexuales_df"
   ]
  },
  {
   "cell_type": "code",
   "execution_count": 36,
   "id": "1e98fd0b-bd9c-498b-b14c-15321d9ec1dd",
   "metadata": {},
   "outputs": [
    {
     "data": {
      "text/plain": [
       "DEPARTAMENTO    0\n",
       "MUNICIPIO       0\n",
       "CODIGO DANE     0\n",
       "ARMAS MEDIOS    0\n",
       "FECHA HECHO     0\n",
       "GENERO          0\n",
       "GRUPO ETARIO    0\n",
       "CANTIDAD        0\n",
       "delito          0\n",
       "dtype: int64"
      ]
     },
     "execution_count": 36,
     "metadata": {},
     "output_type": "execute_result"
    }
   ],
   "source": [
    "delitos_sexuales_df.isna().sum()"
   ]
  },
  {
   "cell_type": "markdown",
   "id": "19bdfef2-7aae-484d-a244-71a87720db28",
   "metadata": {},
   "source": [
    "## 2.2. Cambio del formato de fecha a datetime"
   ]
  },
  {
   "cell_type": "code",
   "execution_count": 37,
   "id": "80d9fdec-67eb-4467-92a2-690e4eba9564",
   "metadata": {},
   "outputs": [
    {
     "data": {
      "text/plain": [
       "0          1/01/2010\n",
       "1          1/01/2010\n",
       "2          1/01/2010\n",
       "3          1/01/2010\n",
       "4          1/01/2010\n",
       "             ...    \n",
       "260318    15/02/2022\n",
       "260319     7/03/2022\n",
       "260320    17/03/2022\n",
       "260321    22/02/2022\n",
       "260322     4/04/2022\n",
       "Name: FECHA HECHO, Length: 259481, dtype: object"
      ]
     },
     "execution_count": 37,
     "metadata": {},
     "output_type": "execute_result"
    }
   ],
   "source": [
    "delitos_sexuales_df['FECHA HECHO']"
   ]
  },
  {
   "cell_type": "code",
   "execution_count": 41,
   "id": "6e67fa86-4ed7-4261-b862-9c3ed786e046",
   "metadata": {},
   "outputs": [
    {
     "name": "stderr",
     "output_type": "stream",
     "text": [
      "C:\\Users\\crist\\AppData\\Local\\Temp\\ipykernel_17608\\390683007.py:1: SettingWithCopyWarning: \n",
      "A value is trying to be set on a copy of a slice from a DataFrame.\n",
      "Try using .loc[row_indexer,col_indexer] = value instead\n",
      "\n",
      "See the caveats in the documentation: https://pandas.pydata.org/pandas-docs/stable/user_guide/indexing.html#returning-a-view-versus-a-copy\n",
      "  delitos_sexuales_df['FECHA HECHO'] = pd.to_datetime(delitos_sexuales_df['FECHA HECHO'])\n"
     ]
    }
   ],
   "source": [
    "delitos_sexuales_df['FECHA HECHO'] = pd.to_datetime(delitos_sexuales_df['FECHA HECHO'])"
   ]
  },
  {
   "cell_type": "code",
   "execution_count": 42,
   "id": "4d9e25ea-8955-4fa0-aaf0-ddff746cbc16",
   "metadata": {},
   "outputs": [
    {
     "data": {
      "text/plain": [
       "0        2010-01-01\n",
       "1        2010-01-01\n",
       "2        2010-01-01\n",
       "3        2010-01-01\n",
       "4        2010-01-01\n",
       "            ...    \n",
       "260318   2022-02-15\n",
       "260319   2022-07-03\n",
       "260320   2022-03-17\n",
       "260321   2022-02-22\n",
       "260322   2022-04-04\n",
       "Name: FECHA HECHO, Length: 259481, dtype: datetime64[ns]"
      ]
     },
     "execution_count": 42,
     "metadata": {},
     "output_type": "execute_result"
    }
   ],
   "source": [
    "delitos_sexuales_df['FECHA HECHO']"
   ]
  },
  {
   "cell_type": "code",
   "execution_count": 44,
   "id": "c219d05b-3d9f-46d3-a99c-295a0863fd77",
   "metadata": {},
   "outputs": [
    {
     "data": {
      "text/plain": [
       "DEPARTAMENTO            object\n",
       "MUNICIPIO               object\n",
       "CODIGO DANE            float64\n",
       "ARMAS MEDIOS            object\n",
       "FECHA HECHO     datetime64[ns]\n",
       "GENERO                  object\n",
       "GRUPO ETARIO            object\n",
       "CANTIDAD                 int64\n",
       "delito                  object\n",
       "dtype: object"
      ]
     },
     "execution_count": 44,
     "metadata": {},
     "output_type": "execute_result"
    }
   ],
   "source": [
    "delitos_sexuales_df.dtypes"
   ]
  },
  {
   "cell_type": "markdown",
   "id": "8c1ea3aa-8ba9-4e25-b8fe-413d721b020e",
   "metadata": {},
   "source": [
    "# 3. Almacenamiento de los datos procesados"
   ]
  },
  {
   "cell_type": "code",
   "execution_count": 45,
   "id": "f2eab8cb-695b-4fd6-8d71-b38055b729a9",
   "metadata": {},
   "outputs": [],
   "source": [
    "delitos_sexuales_df.to_csv('../../Data/DATOS_LIMPIOS/delitos_sexuales.csv', encoding='utf-8', index=False)"
   ]
  },
  {
   "cell_type": "code",
   "execution_count": null,
   "id": "ac1c72d4-d73f-4cec-9fa2-871e48d19463",
   "metadata": {},
   "outputs": [],
   "source": []
  }
 ],
 "metadata": {
  "kernelspec": {
   "display_name": "gestion de datos",
   "language": "python",
   "name": "gestion_de_datos"
  },
  "language_info": {
   "codemirror_mode": {
    "name": "ipython",
    "version": 3
   },
   "file_extension": ".py",
   "mimetype": "text/x-python",
   "name": "python",
   "nbconvert_exporter": "python",
   "pygments_lexer": "ipython3",
   "version": "3.8.13"
  }
 },
 "nbformat": 4,
 "nbformat_minor": 5
}
