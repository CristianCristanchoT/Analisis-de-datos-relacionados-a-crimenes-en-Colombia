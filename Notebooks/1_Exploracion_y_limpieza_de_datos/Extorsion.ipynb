{
 "cells": [
  {
   "cell_type": "code",
   "execution_count": 1,
   "id": "73134d11-dd44-437a-8c80-df4a1daca92c",
   "metadata": {},
   "outputs": [],
   "source": [
    "import pandas as pd\n",
    "from matplotlib import pyplot as plt\n",
    "import seaborn as sns\n",
    "import numpy as np"
   ]
  },
  {
   "cell_type": "code",
   "execution_count": 2,
   "id": "1bbece55-8049-4017-85ce-4145b95b20ae",
   "metadata": {},
   "outputs": [
    {
     "data": {
      "text/html": [
       "<div>\n",
       "<style scoped>\n",
       "    .dataframe tbody tr th:only-of-type {\n",
       "        vertical-align: middle;\n",
       "    }\n",
       "\n",
       "    .dataframe tbody tr th {\n",
       "        vertical-align: top;\n",
       "    }\n",
       "\n",
       "    .dataframe thead th {\n",
       "        text-align: right;\n",
       "    }\n",
       "</style>\n",
       "<table border=\"1\" class=\"dataframe\">\n",
       "  <thead>\n",
       "    <tr style=\"text-align: right;\">\n",
       "      <th></th>\n",
       "      <th>FECHA HECHO</th>\n",
       "      <th>COD_DEPTO</th>\n",
       "      <th>DEPARTAMENTO</th>\n",
       "      <th>COD_MUNI</th>\n",
       "      <th>MUNICIPIO</th>\n",
       "      <th>CANTIDAD</th>\n",
       "    </tr>\n",
       "  </thead>\n",
       "  <tbody>\n",
       "    <tr>\n",
       "      <th>0</th>\n",
       "      <td>01/01/1996 12:00:00 AM</td>\n",
       "      <td>11</td>\n",
       "      <td>BOGOTÁ D.C.</td>\n",
       "      <td>11001</td>\n",
       "      <td>BOGOTA D.C.</td>\n",
       "      <td>1</td>\n",
       "    </tr>\n",
       "    <tr>\n",
       "      <th>1</th>\n",
       "      <td>01/01/1996 12:00:00 AM</td>\n",
       "      <td>50</td>\n",
       "      <td>META</td>\n",
       "      <td>50689</td>\n",
       "      <td>SAN MARTIN</td>\n",
       "      <td>1</td>\n",
       "    </tr>\n",
       "    <tr>\n",
       "      <th>2</th>\n",
       "      <td>01/02/1996 12:00:00 AM</td>\n",
       "      <td>11</td>\n",
       "      <td>BOGOTÁ D.C.</td>\n",
       "      <td>11001</td>\n",
       "      <td>BOGOTA, D.C.</td>\n",
       "      <td>2</td>\n",
       "    </tr>\n",
       "    <tr>\n",
       "      <th>3</th>\n",
       "      <td>01/02/1996 12:00:00 AM</td>\n",
       "      <td>54</td>\n",
       "      <td>NORTE DE SANTANDER</td>\n",
       "      <td>54001</td>\n",
       "      <td>CUCUTA</td>\n",
       "      <td>1</td>\n",
       "    </tr>\n",
       "    <tr>\n",
       "      <th>4</th>\n",
       "      <td>01/03/1996 12:00:00 AM</td>\n",
       "      <td>20</td>\n",
       "      <td>CESAR</td>\n",
       "      <td>20001</td>\n",
       "      <td>VALLEDUPAR</td>\n",
       "      <td>1</td>\n",
       "    </tr>\n",
       "    <tr>\n",
       "      <th>...</th>\n",
       "      <td>...</td>\n",
       "      <td>...</td>\n",
       "      <td>...</td>\n",
       "      <td>...</td>\n",
       "      <td>...</td>\n",
       "      <td>...</td>\n",
       "    </tr>\n",
       "    <tr>\n",
       "      <th>69132</th>\n",
       "      <td>05/23/2022 12:00:00 AM</td>\n",
       "      <td>15</td>\n",
       "      <td>BOYACÁ</td>\n",
       "      <td>15759</td>\n",
       "      <td>SOGAMOSO</td>\n",
       "      <td>1</td>\n",
       "    </tr>\n",
       "    <tr>\n",
       "      <th>69133</th>\n",
       "      <td>05/23/2022 12:00:00 AM</td>\n",
       "      <td>19</td>\n",
       "      <td>CAUCA</td>\n",
       "      <td>19001</td>\n",
       "      <td>POPAYAN</td>\n",
       "      <td>1</td>\n",
       "    </tr>\n",
       "    <tr>\n",
       "      <th>69134</th>\n",
       "      <td>05/23/2022 12:00:00 AM</td>\n",
       "      <td>66</td>\n",
       "      <td>RISARALDA</td>\n",
       "      <td>66170</td>\n",
       "      <td>DOSQUEBRADAS</td>\n",
       "      <td>1</td>\n",
       "    </tr>\n",
       "    <tr>\n",
       "      <th>69135</th>\n",
       "      <td>05/23/2022 12:00:00 AM</td>\n",
       "      <td>70</td>\n",
       "      <td>SUCRE</td>\n",
       "      <td>70820</td>\n",
       "      <td>SANTIAGO DE TOLU</td>\n",
       "      <td>1</td>\n",
       "    </tr>\n",
       "    <tr>\n",
       "      <th>69136</th>\n",
       "      <td>05/23/2022 12:00:00 AM</td>\n",
       "      <td>86</td>\n",
       "      <td>PUTUMAYO</td>\n",
       "      <td>86568</td>\n",
       "      <td>PUERTO ASIS</td>\n",
       "      <td>1</td>\n",
       "    </tr>\n",
       "  </tbody>\n",
       "</table>\n",
       "<p>69137 rows × 6 columns</p>\n",
       "</div>"
      ],
      "text/plain": [
       "                  FECHA HECHO  COD_DEPTO        DEPARTAMENTO  COD_MUNI  \\\n",
       "0      01/01/1996 12:00:00 AM         11         BOGOTÁ D.C.     11001   \n",
       "1      01/01/1996 12:00:00 AM         50                META     50689   \n",
       "2      01/02/1996 12:00:00 AM         11         BOGOTÁ D.C.     11001   \n",
       "3      01/02/1996 12:00:00 AM         54  NORTE DE SANTANDER     54001   \n",
       "4      01/03/1996 12:00:00 AM         20               CESAR     20001   \n",
       "...                       ...        ...                 ...       ...   \n",
       "69132  05/23/2022 12:00:00 AM         15              BOYACÁ     15759   \n",
       "69133  05/23/2022 12:00:00 AM         19               CAUCA     19001   \n",
       "69134  05/23/2022 12:00:00 AM         66           RISARALDA     66170   \n",
       "69135  05/23/2022 12:00:00 AM         70               SUCRE     70820   \n",
       "69136  05/23/2022 12:00:00 AM         86            PUTUMAYO     86568   \n",
       "\n",
       "              MUNICIPIO  CANTIDAD  \n",
       "0           BOGOTA D.C.         1  \n",
       "1            SAN MARTIN         1  \n",
       "2          BOGOTA, D.C.         2  \n",
       "3                CUCUTA         1  \n",
       "4            VALLEDUPAR         1  \n",
       "...                 ...       ...  \n",
       "69132          SOGAMOSO         1  \n",
       "69133           POPAYAN         1  \n",
       "69134      DOSQUEBRADAS         1  \n",
       "69135  SANTIAGO DE TOLU         1  \n",
       "69136       PUERTO ASIS         1  \n",
       "\n",
       "[69137 rows x 6 columns]"
      ]
     },
     "execution_count": 2,
     "metadata": {},
     "output_type": "execute_result"
    }
   ],
   "source": [
    "extorsion_df = pd.read_csv('../../Data/EXTORSI_N.csv')\n",
    "extorsion_df"
   ]
  },
  {
   "cell_type": "code",
   "execution_count": null,
   "id": "8af3de3b-3d83-434b-a119-987b0e6b9508",
   "metadata": {},
   "outputs": [],
   "source": []
  },
  {
   "cell_type": "markdown",
   "id": "70949fda-b677-4a04-9560-664f5ad93e2b",
   "metadata": {},
   "source": [
    "# 1. Exploracion de los datos"
   ]
  },
  {
   "cell_type": "code",
   "execution_count": 9,
   "id": "62fb133b-7785-4f31-acba-0ca8be910140",
   "metadata": {},
   "outputs": [
    {
     "data": {
      "text/plain": [
       "(69137, 6)"
      ]
     },
     "execution_count": 9,
     "metadata": {},
     "output_type": "execute_result"
    }
   ],
   "source": [
    "extorsion_df.shape"
   ]
  },
  {
   "cell_type": "code",
   "execution_count": 8,
   "id": "ede4038c-99f7-4efa-86f3-67defb236df2",
   "metadata": {},
   "outputs": [
    {
     "data": {
      "text/plain": [
       "FECHA HECHO     object\n",
       "COD_DEPTO        int64\n",
       "DEPARTAMENTO    object\n",
       "COD_MUNI         int64\n",
       "MUNICIPIO       object\n",
       "CANTIDAD         int64\n",
       "dtype: object"
      ]
     },
     "execution_count": 8,
     "metadata": {},
     "output_type": "execute_result"
    }
   ],
   "source": [
    "extorsion_df.dtypes"
   ]
  },
  {
   "cell_type": "markdown",
   "id": "44fe9e46-933d-42df-b5cb-b5efc98415b8",
   "metadata": {},
   "source": [
    "### Revision de datos NaN o faltantes"
   ]
  },
  {
   "cell_type": "code",
   "execution_count": 37,
   "id": "189d8549-9fa1-498c-ac67-91346f0b962c",
   "metadata": {},
   "outputs": [
    {
     "data": {
      "text/plain": [
       "FECHA HECHO     0\n",
       "COD_DEPTO       0\n",
       "DEPARTAMENTO    0\n",
       "COD_MUNI        0\n",
       "MUNICIPIO       0\n",
       "CANTIDAD        0\n",
       "dtype: int64"
      ]
     },
     "execution_count": 37,
     "metadata": {},
     "output_type": "execute_result"
    }
   ],
   "source": [
    "extorsion_df.isna().sum()"
   ]
  },
  {
   "cell_type": "code",
   "execution_count": null,
   "id": "81888cdc-4189-4c1b-9dbd-64381b9c3091",
   "metadata": {},
   "outputs": [],
   "source": []
  },
  {
   "cell_type": "markdown",
   "id": "03e8f1d2-76b5-4414-b86f-f395877c5021",
   "metadata": {},
   "source": [
    "## 1.1 Analizando la columna DEPARTAMENTO"
   ]
  },
  {
   "cell_type": "code",
   "execution_count": 19,
   "id": "989248f2-fe19-4cf1-a668-c56714d054b3",
   "metadata": {},
   "outputs": [
    {
     "data": {
      "text/plain": [
       "['AMAZONAS',\n",
       " 'ANTIOQUIA',\n",
       " 'ARAUCA',\n",
       " 'ATLÁNTICO',\n",
       " 'BOGOTÁ D.C.',\n",
       " 'BOLÍVAR',\n",
       " 'BOYACÁ',\n",
       " 'CALDAS',\n",
       " 'CAQUETÁ',\n",
       " 'CASANARE',\n",
       " 'CAUCA',\n",
       " 'CESAR',\n",
       " 'CHOCÓ',\n",
       " 'CUNDINAMARCA',\n",
       " 'CÓRDOBA',\n",
       " 'GUAINÍA',\n",
       " 'GUAVIARE',\n",
       " 'HUILA',\n",
       " 'LA GUAJIRA',\n",
       " 'MAGDALENA',\n",
       " 'META',\n",
       " 'NARIÑO',\n",
       " 'NORTE DE SANTANDER',\n",
       " 'PUTUMAYO',\n",
       " 'QUINDÍO',\n",
       " 'RISARALDA',\n",
       " 'SAN ANDRÉS ISLAS',\n",
       " 'SANTANDER',\n",
       " 'SUCRE',\n",
       " 'TOLIMA',\n",
       " 'VALLE DEL CAUCA',\n",
       " 'VAUPÉS',\n",
       " 'VICHADA']"
      ]
     },
     "execution_count": 19,
     "metadata": {},
     "output_type": "execute_result"
    }
   ],
   "source": [
    "departamentos = list(extorsion_df['DEPARTAMENTO'].unique())\n",
    "departamentos.sort()\n",
    "departamentos"
   ]
  },
  {
   "cell_type": "code",
   "execution_count": 29,
   "id": "5eddb7e2-2065-4245-b6c7-2588dd8a014e",
   "metadata": {},
   "outputs": [
    {
     "data": {
      "text/plain": [
       "33"
      ]
     },
     "execution_count": 29,
     "metadata": {},
     "output_type": "execute_result"
    }
   ],
   "source": [
    "len(departamentos)"
   ]
  },
  {
   "cell_type": "code",
   "execution_count": 28,
   "id": "6a4dc621-05ac-4e41-b3b1-46630a4f8525",
   "metadata": {},
   "outputs": [
    {
     "data": {
      "text/plain": [
       "<AxesSubplot:xlabel='Count', ylabel='DEPARTAMENTO'>"
      ]
     },
     "execution_count": 28,
     "metadata": {},
     "output_type": "execute_result"
    },
    {
     "data": {
      "image/png": "[encoded data removed]",
      "text/plain": [
       "<Figure size 1080x576 with 1 Axes>"
      ]
     },
     "metadata": {
      "needs_background": "light"
     },
     "output_type": "display_data"
    }
   ],
   "source": [
    "plt.figure(figsize=(15,8))\n",
    "sns.histplot(data=extorsion_df, y=\"DEPARTAMENTO\")"
   ]
  },
  {
   "cell_type": "code",
   "execution_count": null,
   "id": "b5659be0-db88-4fe4-a048-c64fb72cf405",
   "metadata": {},
   "outputs": [],
   "source": []
  },
  {
   "cell_type": "markdown",
   "id": "9cea16c1-4380-4ce9-a290-cb17ca25b75f",
   "metadata": {},
   "source": [
    "## 1.2 Analizando la columna MUNICIPIO"
   ]
  },
  {
   "cell_type": "code",
   "execution_count": 35,
   "id": "c1dd83eb-9754-49a4-abdf-d809cca998c1",
   "metadata": {},
   "outputs": [
    {
     "data": {
      "text/plain": [
       "['ABEJORRAL',\n",
       " 'ABREGO',\n",
       " 'ABRIAQUI',\n",
       " 'ACACIAS',\n",
       " 'ACANDI',\n",
       " 'ACEVEDO',\n",
       " 'ACHI',\n",
       " 'AGRADO',\n",
       " 'AGUA DE DIOS',\n",
       " 'AGUACHICA']"
      ]
     },
     "execution_count": 35,
     "metadata": {},
     "output_type": "execute_result"
    }
   ],
   "source": [
    "municipios = list(extorsion_df['MUNICIPIO'].unique())\n",
    "municipios.sort()\n",
    "municipios[:10]"
   ]
  },
  {
   "cell_type": "code",
   "execution_count": 32,
   "id": "9f5bed71-8d86-43f6-b57e-6e24d17ccc23",
   "metadata": {},
   "outputs": [
    {
     "data": {
      "text/plain": [
       "989"
      ]
     },
     "execution_count": 32,
     "metadata": {},
     "output_type": "execute_result"
    }
   ],
   "source": [
    "len(municipios)"
   ]
  },
  {
   "cell_type": "code",
   "execution_count": null,
   "id": "646039bf-81d2-46ed-8dda-35341bf2a402",
   "metadata": {},
   "outputs": [],
   "source": []
  },
  {
   "cell_type": "markdown",
   "id": "46612c8d-8c04-49a6-aa8c-3a9a62f38ee4",
   "metadata": {},
   "source": [
    "## 1.3 Analizando la columna CANTIDAD"
   ]
  },
  {
   "cell_type": "code",
   "execution_count": 41,
   "id": "e9f2198f-e6a2-473a-8d7b-378616235d15",
   "metadata": {},
   "outputs": [
    {
     "data": {
      "text/plain": [
       "array([ 1,  2,  3,  4,  7,  5,  6,  9,  8, 11, 16, 13, 19, 17, 10, 21, 15,\n",
       "       20, 12, 27, 89, 35, 14], dtype=int64)"
      ]
     },
     "execution_count": 41,
     "metadata": {},
     "output_type": "execute_result"
    }
   ],
   "source": [
    "extorsion_df['CANTIDAD'].unique()"
   ]
  },
  {
   "cell_type": "code",
   "execution_count": 44,
   "id": "899bf14b-b9b4-4469-b85f-4553a49e618a",
   "metadata": {},
   "outputs": [
    {
     "data": {
      "text/plain": [
       "<AxesSubplot:xlabel='CANTIDAD', ylabel='Count'>"
      ]
     },
     "execution_count": 44,
     "metadata": {},
     "output_type": "execute_result"
    },
    {
     "data": {
      "image/png": "[encoded data removed]",
      "text/plain": [
       "<Figure size 1080x576 with 1 Axes>"
      ]
     },
     "metadata": {
      "needs_background": "light"
     },
     "output_type": "display_data"
    }
   ],
   "source": [
    "plt.figure(figsize=(15,8))\n",
    "sns.histplot(data=extorsion_df, x=\"CANTIDAD\", bins=50)"
   ]
  },
  {
   "cell_type": "code",
   "execution_count": null,
   "id": "798ccbcf-ea0c-4c8c-b7f0-edbe511b7011",
   "metadata": {},
   "outputs": [],
   "source": []
  },
  {
   "cell_type": "markdown",
   "id": "347fa341-a2b0-4da3-a3c8-ada326291646",
   "metadata": {},
   "source": [
    "# 2. Limpieza y transformacion de los datos"
   ]
  },
  {
   "cell_type": "markdown",
   "id": "e01729bf-6729-44a4-9566-339794903b1c",
   "metadata": {},
   "source": [
    "## 2.1. Cambio del formato de fecha a datetime"
   ]
  },
  {
   "cell_type": "code",
   "execution_count": 49,
   "id": "b65313f1-7db9-44d2-ac69-9f062d02d6f5",
   "metadata": {},
   "outputs": [
    {
     "data": {
      "text/plain": [
       "0        01/01/1996 12:00:00 AM\n",
       "1        01/01/1996 12:00:00 AM\n",
       "2        01/02/1996 12:00:00 AM\n",
       "3        01/02/1996 12:00:00 AM\n",
       "4        01/03/1996 12:00:00 AM\n",
       "                  ...          \n",
       "69132    05/23/2022 12:00:00 AM\n",
       "69133    05/23/2022 12:00:00 AM\n",
       "69134    05/23/2022 12:00:00 AM\n",
       "69135    05/23/2022 12:00:00 AM\n",
       "69136    05/23/2022 12:00:00 AM\n",
       "Name: FECHA HECHO, Length: 69137, dtype: object"
      ]
     },
     "execution_count": 49,
     "metadata": {},
     "output_type": "execute_result"
    }
   ],
   "source": [
    "extorsion_df['FECHA HECHO']"
   ]
  },
  {
   "cell_type": "code",
   "execution_count": 50,
   "id": "077c2af8-677d-4891-8e18-88c940a5fa95",
   "metadata": {},
   "outputs": [
    {
     "data": {
      "text/html": [
       "<div>\n",
       "<style scoped>\n",
       "    .dataframe tbody tr th:only-of-type {\n",
       "        vertical-align: middle;\n",
       "    }\n",
       "\n",
       "    .dataframe tbody tr th {\n",
       "        vertical-align: top;\n",
       "    }\n",
       "\n",
       "    .dataframe thead th {\n",
       "        text-align: right;\n",
       "    }\n",
       "</style>\n",
       "<table border=\"1\" class=\"dataframe\">\n",
       "  <thead>\n",
       "    <tr style=\"text-align: right;\">\n",
       "      <th></th>\n",
       "      <th>FECHA HECHO</th>\n",
       "      <th>COD_DEPTO</th>\n",
       "      <th>DEPARTAMENTO</th>\n",
       "      <th>COD_MUNI</th>\n",
       "      <th>MUNICIPIO</th>\n",
       "      <th>CANTIDAD</th>\n",
       "    </tr>\n",
       "  </thead>\n",
       "  <tbody>\n",
       "    <tr>\n",
       "      <th>0</th>\n",
       "      <td>1996-01-01</td>\n",
       "      <td>11</td>\n",
       "      <td>BOGOTÁ D.C.</td>\n",
       "      <td>11001</td>\n",
       "      <td>BOGOTA D.C.</td>\n",
       "      <td>1</td>\n",
       "    </tr>\n",
       "    <tr>\n",
       "      <th>1</th>\n",
       "      <td>1996-01-01</td>\n",
       "      <td>50</td>\n",
       "      <td>META</td>\n",
       "      <td>50689</td>\n",
       "      <td>SAN MARTIN</td>\n",
       "      <td>1</td>\n",
       "    </tr>\n",
       "    <tr>\n",
       "      <th>2</th>\n",
       "      <td>1996-01-02</td>\n",
       "      <td>11</td>\n",
       "      <td>BOGOTÁ D.C.</td>\n",
       "      <td>11001</td>\n",
       "      <td>BOGOTA, D.C.</td>\n",
       "      <td>2</td>\n",
       "    </tr>\n",
       "    <tr>\n",
       "      <th>3</th>\n",
       "      <td>1996-01-02</td>\n",
       "      <td>54</td>\n",
       "      <td>NORTE DE SANTANDER</td>\n",
       "      <td>54001</td>\n",
       "      <td>CUCUTA</td>\n",
       "      <td>1</td>\n",
       "    </tr>\n",
       "    <tr>\n",
       "      <th>4</th>\n",
       "      <td>1996-01-03</td>\n",
       "      <td>20</td>\n",
       "      <td>CESAR</td>\n",
       "      <td>20001</td>\n",
       "      <td>VALLEDUPAR</td>\n",
       "      <td>1</td>\n",
       "    </tr>\n",
       "    <tr>\n",
       "      <th>...</th>\n",
       "      <td>...</td>\n",
       "      <td>...</td>\n",
       "      <td>...</td>\n",
       "      <td>...</td>\n",
       "      <td>...</td>\n",
       "      <td>...</td>\n",
       "    </tr>\n",
       "    <tr>\n",
       "      <th>69132</th>\n",
       "      <td>2022-05-23</td>\n",
       "      <td>15</td>\n",
       "      <td>BOYACÁ</td>\n",
       "      <td>15759</td>\n",
       "      <td>SOGAMOSO</td>\n",
       "      <td>1</td>\n",
       "    </tr>\n",
       "    <tr>\n",
       "      <th>69133</th>\n",
       "      <td>2022-05-23</td>\n",
       "      <td>19</td>\n",
       "      <td>CAUCA</td>\n",
       "      <td>19001</td>\n",
       "      <td>POPAYAN</td>\n",
       "      <td>1</td>\n",
       "    </tr>\n",
       "    <tr>\n",
       "      <th>69134</th>\n",
       "      <td>2022-05-23</td>\n",
       "      <td>66</td>\n",
       "      <td>RISARALDA</td>\n",
       "      <td>66170</td>\n",
       "      <td>DOSQUEBRADAS</td>\n",
       "      <td>1</td>\n",
       "    </tr>\n",
       "    <tr>\n",
       "      <th>69135</th>\n",
       "      <td>2022-05-23</td>\n",
       "      <td>70</td>\n",
       "      <td>SUCRE</td>\n",
       "      <td>70820</td>\n",
       "      <td>SANTIAGO DE TOLU</td>\n",
       "      <td>1</td>\n",
       "    </tr>\n",
       "    <tr>\n",
       "      <th>69136</th>\n",
       "      <td>2022-05-23</td>\n",
       "      <td>86</td>\n",
       "      <td>PUTUMAYO</td>\n",
       "      <td>86568</td>\n",
       "      <td>PUERTO ASIS</td>\n",
       "      <td>1</td>\n",
       "    </tr>\n",
       "  </tbody>\n",
       "</table>\n",
       "<p>69137 rows × 6 columns</p>\n",
       "</div>"
      ],
      "text/plain": [
       "      FECHA HECHO  COD_DEPTO        DEPARTAMENTO  COD_MUNI         MUNICIPIO  \\\n",
       "0      1996-01-01         11         BOGOTÁ D.C.     11001       BOGOTA D.C.   \n",
       "1      1996-01-01         50                META     50689        SAN MARTIN   \n",
       "2      1996-01-02         11         BOGOTÁ D.C.     11001      BOGOTA, D.C.   \n",
       "3      1996-01-02         54  NORTE DE SANTANDER     54001            CUCUTA   \n",
       "4      1996-01-03         20               CESAR     20001        VALLEDUPAR   \n",
       "...           ...        ...                 ...       ...               ...   \n",
       "69132  2022-05-23         15              BOYACÁ     15759          SOGAMOSO   \n",
       "69133  2022-05-23         19               CAUCA     19001           POPAYAN   \n",
       "69134  2022-05-23         66           RISARALDA     66170      DOSQUEBRADAS   \n",
       "69135  2022-05-23         70               SUCRE     70820  SANTIAGO DE TOLU   \n",
       "69136  2022-05-23         86            PUTUMAYO     86568       PUERTO ASIS   \n",
       "\n",
       "       CANTIDAD  \n",
       "0             1  \n",
       "1             1  \n",
       "2             2  \n",
       "3             1  \n",
       "4             1  \n",
       "...         ...  \n",
       "69132         1  \n",
       "69133         1  \n",
       "69134         1  \n",
       "69135         1  \n",
       "69136         1  \n",
       "\n",
       "[69137 rows x 6 columns]"
      ]
     },
     "execution_count": 50,
     "metadata": {},
     "output_type": "execute_result"
    }
   ],
   "source": [
    "extorsion_df['FECHA HECHO'] = pd.to_datetime(extorsion_df['FECHA HECHO'])\n",
    "extorsion_df"
   ]
  },
  {
   "cell_type": "code",
   "execution_count": null,
   "id": "582c6e82-f81b-41a5-b3be-bf2882eb0bfc",
   "metadata": {},
   "outputs": [],
   "source": []
  },
  {
   "cell_type": "markdown",
   "id": "ed8f38a5-df7e-4e73-830c-529b87a21c85",
   "metadata": {},
   "source": [
    "# 3. Almacenamiento de los datos procesados"
   ]
  },
  {
   "cell_type": "code",
   "execution_count": 52,
   "id": "adbff791-6f94-413d-b837-6430432d47b2",
   "metadata": {},
   "outputs": [],
   "source": [
    "extorsion_df.to_csv('../../Data/DATOS_LIMPIOS/extorsion.csv', encoding='utf-8', index=False)"
   ]
  },
  {
   "cell_type": "code",
   "execution_count": null,
   "id": "93495019-b7e4-4027-8668-923ac611c802",
   "metadata": {},
   "outputs": [],
   "source": []
  },
  {
   "cell_type": "code",
   "execution_count": null,
   "id": "901417c1-ef61-45b7-9112-9cbb6f49d6ad",
   "metadata": {},
   "outputs": [],
   "source": []
  }
 ],
 "metadata": {
  "kernelspec": {
   "display_name": "gestion de datos",
   "language": "python",
   "name": "gestion_de_datos"
  },
  "language_info": {
   "codemirror_mode": {
    "name": "ipython",
    "version": 3
   },
   "file_extension": ".py",
   "mimetype": "text/x-python",
   "name": "python",
   "nbconvert_exporter": "python",
   "pygments_lexer": "ipython3",
   "version": "3.8.13"
  }
 },
 "nbformat": 4,
 "nbformat_minor": 5
}
