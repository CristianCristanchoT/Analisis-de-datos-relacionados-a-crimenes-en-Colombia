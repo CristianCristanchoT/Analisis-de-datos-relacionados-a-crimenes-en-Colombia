{
 "cells": [
  {
   "cell_type": "code",
   "execution_count": 12,
   "id": "0b7c81ee-ca0c-4787-96d1-46a45b8f5739",
   "metadata": {},
   "outputs": [],
   "source": [
    "import pandas as pd\n",
    "from matplotlib import pyplot as plt\n",
    "import seaborn as sns\n",
    "import numpy as np"
   ]
  },
  {
   "cell_type": "code",
   "execution_count": 3,
   "id": "046e0a27-af28-4dc6-b814-b01fae894175",
   "metadata": {},
   "outputs": [
    {
     "data": {
      "text/html": [
       "<div>\n",
       "<style scoped>\n",
       "    .dataframe tbody tr th:only-of-type {\n",
       "        vertical-align: middle;\n",
       "    }\n",
       "\n",
       "    .dataframe tbody tr th {\n",
       "        vertical-align: top;\n",
       "    }\n",
       "\n",
       "    .dataframe thead th {\n",
       "        text-align: right;\n",
       "    }\n",
       "</style>\n",
       "<table border=\"1\" class=\"dataframe\">\n",
       "  <thead>\n",
       "    <tr style=\"text-align: right;\">\n",
       "      <th></th>\n",
       "      <th>DEPARTAMENTO</th>\n",
       "      <th>MUNICIPIO</th>\n",
       "      <th>CODIGO DANE</th>\n",
       "      <th>ARMAS MEDIOS</th>\n",
       "      <th>FECHA HECHO</th>\n",
       "      <th>GENERO</th>\n",
       "      <th>GRUPO ETARÍO</th>\n",
       "      <th>DESCRIPCIÓN CONDUCTA</th>\n",
       "      <th>CANTIDAD</th>\n",
       "    </tr>\n",
       "  </thead>\n",
       "  <tbody>\n",
       "    <tr>\n",
       "      <th>0</th>\n",
       "      <td>ANTIOQUIA</td>\n",
       "      <td>LA CEJA</td>\n",
       "      <td>5376000</td>\n",
       "      <td>MOTO</td>\n",
       "      <td>1/01/2010</td>\n",
       "      <td>MASCULINO</td>\n",
       "      <td>ADULTOS</td>\n",
       "      <td>ARTÍCULO 109. HOMICIDIO CULPOSO ( EN ACCIDENTE...</td>\n",
       "      <td>1</td>\n",
       "    </tr>\n",
       "    <tr>\n",
       "      <th>1</th>\n",
       "      <td>ATLÁNTICO</td>\n",
       "      <td>BARRANQUILLA (CT)</td>\n",
       "      <td>8001000</td>\n",
       "      <td>MOTO</td>\n",
       "      <td>1/01/2010</td>\n",
       "      <td>FEMENINO</td>\n",
       "      <td>ADULTOS</td>\n",
       "      <td>ARTÍCULO 109. HOMICIDIO CULPOSO ( EN ACCIDENTE...</td>\n",
       "      <td>1</td>\n",
       "    </tr>\n",
       "    <tr>\n",
       "      <th>2</th>\n",
       "      <td>ATLÁNTICO</td>\n",
       "      <td>LURUACO</td>\n",
       "      <td>8421000</td>\n",
       "      <td>MOTO</td>\n",
       "      <td>1/01/2010</td>\n",
       "      <td>MASCULINO</td>\n",
       "      <td>ADULTOS</td>\n",
       "      <td>ARTÍCULO 109. HOMICIDIO CULPOSO ( EN ACCIDENTE...</td>\n",
       "      <td>1</td>\n",
       "    </tr>\n",
       "    <tr>\n",
       "      <th>3</th>\n",
       "      <td>CAQUETÁ</td>\n",
       "      <td>PUERTO RICO</td>\n",
       "      <td>18592000</td>\n",
       "      <td>MOTO</td>\n",
       "      <td>1/01/2010</td>\n",
       "      <td>MASCULINO</td>\n",
       "      <td>ADOLESCENTES</td>\n",
       "      <td>ARTÍCULO 109. HOMICIDIO CULPOSO ( EN ACCIDENTE...</td>\n",
       "      <td>1</td>\n",
       "    </tr>\n",
       "    <tr>\n",
       "      <th>4</th>\n",
       "      <td>CASANARE</td>\n",
       "      <td>AGUAZUL</td>\n",
       "      <td>85010000</td>\n",
       "      <td>MOTO</td>\n",
       "      <td>1/01/2010</td>\n",
       "      <td>MASCULINO</td>\n",
       "      <td>ADULTOS</td>\n",
       "      <td>ARTÍCULO 109. HOMICIDIO CULPOSO ( EN ACCIDENTE...</td>\n",
       "      <td>1</td>\n",
       "    </tr>\n",
       "    <tr>\n",
       "      <th>...</th>\n",
       "      <td>...</td>\n",
       "      <td>...</td>\n",
       "      <td>...</td>\n",
       "      <td>...</td>\n",
       "      <td>...</td>\n",
       "      <td>...</td>\n",
       "      <td>...</td>\n",
       "      <td>...</td>\n",
       "      <td>...</td>\n",
       "    </tr>\n",
       "    <tr>\n",
       "      <th>59805</th>\n",
       "      <td>VALLE</td>\n",
       "      <td>RIOFRÍO</td>\n",
       "      <td>76616000</td>\n",
       "      <td>NO REPORTADO</td>\n",
       "      <td>16/04/2022</td>\n",
       "      <td>MASCULINO</td>\n",
       "      <td>ADULTOS</td>\n",
       "      <td>ARTÍCULO 109. HOMICIDIO CULPOSO ( EN ACCIDENTE...</td>\n",
       "      <td>1</td>\n",
       "    </tr>\n",
       "    <tr>\n",
       "      <th>59806</th>\n",
       "      <td>VALLE</td>\n",
       "      <td>TORO</td>\n",
       "      <td>76823000</td>\n",
       "      <td>NO REPORTADO</td>\n",
       "      <td>20/02/2022</td>\n",
       "      <td>FEMENINO</td>\n",
       "      <td>ADULTOS</td>\n",
       "      <td>ARTÍCULO 109. HOMICIDIO CULPOSO ( EN ACCIDENTE...</td>\n",
       "      <td>1</td>\n",
       "    </tr>\n",
       "    <tr>\n",
       "      <th>59807</th>\n",
       "      <td>VALLE</td>\n",
       "      <td>TORO</td>\n",
       "      <td>76823000</td>\n",
       "      <td>NO REPORTADO</td>\n",
       "      <td>20/02/2022</td>\n",
       "      <td>MASCULINO</td>\n",
       "      <td>ADULTOS</td>\n",
       "      <td>ARTÍCULO 109. HOMICIDIO CULPOSO ( EN ACCIDENTE...</td>\n",
       "      <td>4</td>\n",
       "    </tr>\n",
       "    <tr>\n",
       "      <th>59808</th>\n",
       "      <td>VALLE</td>\n",
       "      <td>TULUÁ</td>\n",
       "      <td>76834000</td>\n",
       "      <td>NO REPORTADO</td>\n",
       "      <td>16/04/2022</td>\n",
       "      <td>FEMENINO</td>\n",
       "      <td>ADULTOS</td>\n",
       "      <td>ARTÍCULO 109. HOMICIDIO CULPOSO ( EN ACCIDENTE...</td>\n",
       "      <td>1</td>\n",
       "    </tr>\n",
       "    <tr>\n",
       "      <th>59809</th>\n",
       "      <td>VALLE</td>\n",
       "      <td>TULUÁ</td>\n",
       "      <td>76834000</td>\n",
       "      <td>NO REPORTADO</td>\n",
       "      <td>16/04/2022</td>\n",
       "      <td>MASCULINO</td>\n",
       "      <td>ADULTOS</td>\n",
       "      <td>ARTÍCULO 109. HOMICIDIO CULPOSO ( EN ACCIDENTE...</td>\n",
       "      <td>1</td>\n",
       "    </tr>\n",
       "  </tbody>\n",
       "</table>\n",
       "<p>59810 rows × 9 columns</p>\n",
       "</div>"
      ],
      "text/plain": [
       "      DEPARTAMENTO          MUNICIPIO  CODIGO DANE  ARMAS MEDIOS FECHA HECHO  \\\n",
       "0        ANTIOQUIA            LA CEJA      5376000          MOTO   1/01/2010   \n",
       "1        ATLÁNTICO  BARRANQUILLA (CT)      8001000          MOTO   1/01/2010   \n",
       "2        ATLÁNTICO            LURUACO      8421000          MOTO   1/01/2010   \n",
       "3          CAQUETÁ        PUERTO RICO     18592000          MOTO   1/01/2010   \n",
       "4         CASANARE            AGUAZUL     85010000          MOTO   1/01/2010   \n",
       "...            ...                ...          ...           ...         ...   \n",
       "59805        VALLE            RIOFRÍO     76616000  NO REPORTADO  16/04/2022   \n",
       "59806        VALLE               TORO     76823000  NO REPORTADO  20/02/2022   \n",
       "59807        VALLE               TORO     76823000  NO REPORTADO  20/02/2022   \n",
       "59808        VALLE              TULUÁ     76834000  NO REPORTADO  16/04/2022   \n",
       "59809        VALLE              TULUÁ     76834000  NO REPORTADO  16/04/2022   \n",
       "\n",
       "          GENERO  GRUPO ETARÍO  \\\n",
       "0      MASCULINO       ADULTOS   \n",
       "1       FEMENINO       ADULTOS   \n",
       "2      MASCULINO       ADULTOS   \n",
       "3      MASCULINO  ADOLESCENTES   \n",
       "4      MASCULINO       ADULTOS   \n",
       "...          ...           ...   \n",
       "59805  MASCULINO       ADULTOS   \n",
       "59806   FEMENINO       ADULTOS   \n",
       "59807  MASCULINO       ADULTOS   \n",
       "59808   FEMENINO       ADULTOS   \n",
       "59809  MASCULINO       ADULTOS   \n",
       "\n",
       "                                    DESCRIPCIÓN CONDUCTA  CANTIDAD  \n",
       "0      ARTÍCULO 109. HOMICIDIO CULPOSO ( EN ACCIDENTE...         1  \n",
       "1      ARTÍCULO 109. HOMICIDIO CULPOSO ( EN ACCIDENTE...         1  \n",
       "2      ARTÍCULO 109. HOMICIDIO CULPOSO ( EN ACCIDENTE...         1  \n",
       "3      ARTÍCULO 109. HOMICIDIO CULPOSO ( EN ACCIDENTE...         1  \n",
       "4      ARTÍCULO 109. HOMICIDIO CULPOSO ( EN ACCIDENTE...         1  \n",
       "...                                                  ...       ...  \n",
       "59805  ARTÍCULO 109. HOMICIDIO CULPOSO ( EN ACCIDENTE...         1  \n",
       "59806  ARTÍCULO 109. HOMICIDIO CULPOSO ( EN ACCIDENTE...         1  \n",
       "59807  ARTÍCULO 109. HOMICIDIO CULPOSO ( EN ACCIDENTE...         4  \n",
       "59808  ARTÍCULO 109. HOMICIDIO CULPOSO ( EN ACCIDENTE...         1  \n",
       "59809  ARTÍCULO 109. HOMICIDIO CULPOSO ( EN ACCIDENTE...         1  \n",
       "\n",
       "[59810 rows x 9 columns]"
      ]
     },
     "execution_count": 3,
     "metadata": {},
     "output_type": "execute_result"
    }
   ],
   "source": [
    "homicidios_df = pd.read_csv('../../Data/Homicidios_accidente_de_tr_nsito_Polic_a_Nacional.csv')\n",
    "homicidios_df"
   ]
  },
  {
   "cell_type": "code",
   "execution_count": null,
   "id": "9fbaa926-f753-4b5e-9e0f-d6fb04a0bae5",
   "metadata": {},
   "outputs": [],
   "source": []
  },
  {
   "cell_type": "markdown",
   "id": "bed3581f-dfdc-4ef7-ac3e-f7ddaf1ff99a",
   "metadata": {},
   "source": [
    "# 1. Exploracion de los datos"
   ]
  },
  {
   "cell_type": "code",
   "execution_count": 5,
   "id": "6f34277d-114c-454e-952d-fa4c808142b4",
   "metadata": {},
   "outputs": [
    {
     "data": {
      "text/plain": [
       "(59810, 9)"
      ]
     },
     "execution_count": 5,
     "metadata": {},
     "output_type": "execute_result"
    }
   ],
   "source": [
    "homicidios_df.shape"
   ]
  },
  {
   "cell_type": "code",
   "execution_count": 6,
   "id": "0333301d-bad5-43f8-b144-8d7e5f6c62d6",
   "metadata": {},
   "outputs": [
    {
     "data": {
      "text/plain": [
       "DEPARTAMENTO            object\n",
       "MUNICIPIO               object\n",
       "CODIGO DANE              int64\n",
       "ARMAS MEDIOS            object\n",
       "FECHA HECHO             object\n",
       "GENERO                  object\n",
       "GRUPO ETARÍO            object\n",
       "DESCRIPCIÓN CONDUCTA    object\n",
       "CANTIDAD                 int64\n",
       "dtype: object"
      ]
     },
     "execution_count": 6,
     "metadata": {},
     "output_type": "execute_result"
    }
   ],
   "source": [
    "homicidios_df.dtypes"
   ]
  },
  {
   "cell_type": "markdown",
   "id": "a19f4bec-5ad0-4328-9bae-cc315d95f950",
   "metadata": {},
   "source": [
    "### Revision de datos NaN o faltantes"
   ]
  },
  {
   "cell_type": "code",
   "execution_count": 7,
   "id": "90fcacbc-d871-45cc-bb5b-911caa0cb281",
   "metadata": {},
   "outputs": [
    {
     "data": {
      "text/plain": [
       "DEPARTAMENTO            0\n",
       "MUNICIPIO               0\n",
       "CODIGO DANE             0\n",
       "ARMAS MEDIOS            0\n",
       "FECHA HECHO             0\n",
       "GENERO                  0\n",
       "GRUPO ETARÍO            0\n",
       "DESCRIPCIÓN CONDUCTA    0\n",
       "CANTIDAD                0\n",
       "dtype: int64"
      ]
     },
     "execution_count": 7,
     "metadata": {},
     "output_type": "execute_result"
    }
   ],
   "source": [
    "homicidios_df.isna().sum()"
   ]
  },
  {
   "cell_type": "markdown",
   "id": "9b5eca1c-d08b-4f3f-a228-284584ad6d28",
   "metadata": {},
   "source": [
    "## 1.1 Analizando la columna DEPARTAMENTO"
   ]
  },
  {
   "cell_type": "code",
   "execution_count": 9,
   "id": "7ce90fb5-f26f-43df-9eef-aeb867aada88",
   "metadata": {
    "tags": []
   },
   "outputs": [
    {
     "data": {
      "text/plain": [
       "['AMAZONAS',\n",
       " 'ANTIOQUIA',\n",
       " 'ARAUCA',\n",
       " 'ATLÁNTICO',\n",
       " 'BOLÍVAR',\n",
       " 'BOYACÁ',\n",
       " 'CALDAS',\n",
       " 'CAQUETÁ',\n",
       " 'CASANARE',\n",
       " 'CAUCA',\n",
       " 'CESAR',\n",
       " 'CHOCÓ',\n",
       " 'CUNDINAMARCA',\n",
       " 'CÓRDOBA',\n",
       " 'GUAINÍA',\n",
       " 'GUAJIRA',\n",
       " 'GUAVIARE',\n",
       " 'HUILA',\n",
       " 'MAGDALENA',\n",
       " 'META',\n",
       " 'NARIÑO',\n",
       " 'NORTE DE SANTANDER',\n",
       " 'PUTUMAYO',\n",
       " 'QUINDÍO',\n",
       " 'RISARALDA',\n",
       " 'SAN ANDRÉS',\n",
       " 'SANTANDER',\n",
       " 'SUCRE',\n",
       " 'TOLIMA',\n",
       " 'VALLE',\n",
       " 'VAUPÉS',\n",
       " 'VICHADA']"
      ]
     },
     "execution_count": 9,
     "metadata": {},
     "output_type": "execute_result"
    }
   ],
   "source": [
    "departamentos = list(homicidios_df['DEPARTAMENTO'].unique())\n",
    "departamentos.sort()\n",
    "departamentos"
   ]
  },
  {
   "cell_type": "code",
   "execution_count": 10,
   "id": "3e796f5f-ce05-4c8d-a08f-1e723eb8204d",
   "metadata": {},
   "outputs": [
    {
     "data": {
      "text/plain": [
       "32"
      ]
     },
     "execution_count": 10,
     "metadata": {},
     "output_type": "execute_result"
    }
   ],
   "source": [
    "len(departamentos)"
   ]
  },
  {
   "cell_type": "code",
   "execution_count": 13,
   "id": "f3bdb61f-3d99-473a-bb95-4a1a9bcb91f4",
   "metadata": {},
   "outputs": [
    {
     "data": {
      "text/plain": [
       "<AxesSubplot:xlabel='Count', ylabel='DEPARTAMENTO'>"
      ]
     },
     "execution_count": 13,
     "metadata": {},
     "output_type": "execute_result"
    },
    {
     "data": {
      "image/png": "[encoded data removed]",
      "text/plain": [
       "<Figure size 1080x576 with 1 Axes>"
      ]
     },
     "metadata": {
      "needs_background": "light"
     },
     "output_type": "display_data"
    }
   ],
   "source": [
    "plt.figure(figsize=(15,8))\n",
    "sns.histplot(data=homicidios_df, y=\"DEPARTAMENTO\")"
   ]
  },
  {
   "cell_type": "markdown",
   "id": "271abb73-e41c-4682-a863-f013ccca7cb1",
   "metadata": {},
   "source": [
    "## 1.2 Analizando la columna MUNICIPIO"
   ]
  },
  {
   "cell_type": "code",
   "execution_count": 19,
   "id": "7bce653d-e9b1-40ec-8127-266f491ccdfb",
   "metadata": {},
   "outputs": [
    {
     "data": {
      "text/plain": [
       "['ABEJORRAL',\n",
       " 'ABREGO',\n",
       " 'ABRIAQUÍ',\n",
       " 'ACACÍAS',\n",
       " 'ACANDÍ',\n",
       " 'ACEVEDO',\n",
       " 'ACHÍ',\n",
       " 'AGRADO',\n",
       " 'AGUA DE DIOS',\n",
       " 'AGUACHICA']"
      ]
     },
     "execution_count": 19,
     "metadata": {},
     "output_type": "execute_result"
    }
   ],
   "source": [
    "municipios = list(homicidios_df['MUNICIPIO'].unique())\n",
    "municipios.sort()\n",
    "municipios[:10]"
   ]
  },
  {
   "cell_type": "code",
   "execution_count": 20,
   "id": "a3553033-84cb-4ed1-b2c4-1a41f28b5e6f",
   "metadata": {},
   "outputs": [
    {
     "data": {
      "text/plain": [
       "969"
      ]
     },
     "execution_count": 20,
     "metadata": {},
     "output_type": "execute_result"
    }
   ],
   "source": [
    "len(municipios)"
   ]
  },
  {
   "cell_type": "markdown",
   "id": "6a6ca048-3314-487a-9788-d651f2c460f9",
   "metadata": {},
   "source": [
    "## 1.3 Analizando la columna ARMAS MEDIOS"
   ]
  },
  {
   "cell_type": "code",
   "execution_count": 21,
   "id": "8c5ba726-efab-496d-a1dd-faa3ffa0e070",
   "metadata": {},
   "outputs": [
    {
     "data": {
      "text/plain": [
       "['MOTO',\n",
       " 'VEHICULO',\n",
       " 'NO REPORTADO',\n",
       " 'BICICLETA',\n",
       " 'SIN EMPLEO DE ARMAS',\n",
       " 'TREN',\n",
       " 'CONTUNDENTES']"
      ]
     },
     "execution_count": 21,
     "metadata": {},
     "output_type": "execute_result"
    }
   ],
   "source": [
    "list(homicidios_df['ARMAS MEDIOS'].unique())"
   ]
  },
  {
   "cell_type": "code",
   "execution_count": 22,
   "id": "50e8347c-7f9b-4976-be4d-995afab9ec44",
   "metadata": {},
   "outputs": [
    {
     "data": {
      "text/plain": [
       "<AxesSubplot:xlabel='Count', ylabel='ARMAS MEDIOS'>"
      ]
     },
     "execution_count": 22,
     "metadata": {},
     "output_type": "execute_result"
    },
    {
     "data": {
      "image/png": "[encoded data removed]",
      "text/plain": [
       "<Figure size 1080x576 with 1 Axes>"
      ]
     },
     "metadata": {
      "needs_background": "light"
     },
     "output_type": "display_data"
    }
   ],
   "source": [
    "plt.figure(figsize=(15,8))\n",
    "sns.histplot(data=homicidios_df, y=\"ARMAS MEDIOS\")"
   ]
  },
  {
   "cell_type": "markdown",
   "id": "23dfc918-eedd-42a9-bb1f-d384996d2dc7",
   "metadata": {},
   "source": [
    "## 1.4 Analizando la columna GENERO"
   ]
  },
  {
   "cell_type": "code",
   "execution_count": 23,
   "id": "d854c0a6-3020-46dc-a510-d156045102b1",
   "metadata": {},
   "outputs": [
    {
     "data": {
      "text/plain": [
       "['MASCULINO', 'FEMENINO', 'NO REPORTA', 'NO REPORTADO']"
      ]
     },
     "execution_count": 23,
     "metadata": {},
     "output_type": "execute_result"
    }
   ],
   "source": [
    "list(homicidios_df['GENERO'].unique())"
   ]
  },
  {
   "cell_type": "code",
   "execution_count": 24,
   "id": "7e357e01-38d0-48bc-8ede-67f7a8d04ff3",
   "metadata": {},
   "outputs": [
    {
     "data": {
      "text/plain": [
       "<AxesSubplot:xlabel='Count', ylabel='GENERO'>"
      ]
     },
     "execution_count": 24,
     "metadata": {},
     "output_type": "execute_result"
    },
    {
     "data": {
      "image/png": "[encoded data removed]",
      "text/plain": [
       "<Figure size 1080x576 with 1 Axes>"
      ]
     },
     "metadata": {
      "needs_background": "light"
     },
     "output_type": "display_data"
    }
   ],
   "source": [
    "plt.figure(figsize=(15,8))\n",
    "sns.histplot(data=homicidios_df, y=\"GENERO\")"
   ]
  },
  {
   "cell_type": "markdown",
   "id": "4d9268dd-20f3-4b40-90fe-e15211f55de2",
   "metadata": {},
   "source": [
    "## 1.5 Analizando la columna GRUPO ETARÍO"
   ]
  },
  {
   "cell_type": "code",
   "execution_count": 25,
   "id": "54370164-22fb-458a-b51a-848e2ead16f3",
   "metadata": {},
   "outputs": [
    {
     "data": {
      "text/plain": [
       "['ADULTOS', 'ADOLESCENTES', 'MENORES', 'NO REPORTADO']"
      ]
     },
     "execution_count": 25,
     "metadata": {},
     "output_type": "execute_result"
    }
   ],
   "source": [
    "list(homicidios_df['GRUPO ETARÍO'].unique())"
   ]
  },
  {
   "cell_type": "code",
   "execution_count": 26,
   "id": "cab33a5a-9791-4bb4-a55a-db11dd2b1ade",
   "metadata": {},
   "outputs": [
    {
     "data": {
      "text/plain": [
       "<AxesSubplot:xlabel='Count', ylabel='GRUPO ETARÍO'>"
      ]
     },
     "execution_count": 26,
     "metadata": {},
     "output_type": "execute_result"
    },
    {
     "data": {
      "image/png": "[encoded data removed]",
      "text/plain": [
       "<Figure size 1080x576 with 1 Axes>"
      ]
     },
     "metadata": {
      "needs_background": "light"
     },
     "output_type": "display_data"
    }
   ],
   "source": [
    "plt.figure(figsize=(15,8))\n",
    "sns.histplot(data=homicidios_df, y=\"GRUPO ETARÍO\")"
   ]
  },
  {
   "cell_type": "markdown",
   "id": "fc4f197c-8e2c-4e9b-9076-dc17a00ceb72",
   "metadata": {},
   "source": [
    "## 1.6 Analizando la columna DESCRIPCIÓN CONDUCTA"
   ]
  },
  {
   "cell_type": "code",
   "execution_count": 27,
   "id": "1d784171-23b8-4abf-b0a1-6afa89d4b703",
   "metadata": {},
   "outputs": [
    {
     "data": {
      "text/plain": [
       "['ARTÍCULO 109. HOMICIDIO CULPOSO ( EN ACCIDENTE DE TRÁNSITO)',\n",
       " 'ARTÍCULO 110. HOMICIDIO CULPOSO ( CIRCUNSTANCIAS DE AGRAVACIÓN)']"
      ]
     },
     "execution_count": 27,
     "metadata": {},
     "output_type": "execute_result"
    }
   ],
   "source": [
    "list(homicidios_df['DESCRIPCIÓN CONDUCTA'].unique())"
   ]
  },
  {
   "cell_type": "code",
   "execution_count": 28,
   "id": "67cc65f4-17b0-4b71-b74d-750152e2f5ef",
   "metadata": {},
   "outputs": [
    {
     "data": {
      "text/plain": [
       "<AxesSubplot:xlabel='Count', ylabel='DESCRIPCIÓN CONDUCTA'>"
      ]
     },
     "execution_count": 28,
     "metadata": {},
     "output_type": "execute_result"
    },
    {
     "data": {
      "image/png": "[encoded data removed]",
      "text/plain": [
       "<Figure size 1080x576 with 1 Axes>"
      ]
     },
     "metadata": {
      "needs_background": "light"
     },
     "output_type": "display_data"
    }
   ],
   "source": [
    "plt.figure(figsize=(15,8))\n",
    "sns.histplot(data=homicidios_df, y=\"DESCRIPCIÓN CONDUCTA\")"
   ]
  },
  {
   "cell_type": "markdown",
   "id": "bd0ad5ef-fb6a-400a-ae52-67834be9263c",
   "metadata": {},
   "source": [
    "## 1.7 Analizando la columna CANTIDAD"
   ]
  },
  {
   "cell_type": "code",
   "execution_count": 29,
   "id": "2b042df3-ec81-4968-a550-ab3dc487c3cc",
   "metadata": {},
   "outputs": [
    {
     "data": {
      "text/plain": [
       "[1, 2, 4, 3, 7, 5, 10, 8, 6, 9]"
      ]
     },
     "execution_count": 29,
     "metadata": {},
     "output_type": "execute_result"
    }
   ],
   "source": [
    "list(homicidios_df['CANTIDAD'].unique())"
   ]
  },
  {
   "cell_type": "code",
   "execution_count": 30,
   "id": "2b2e0f82-9403-4613-9740-a969409a2bd0",
   "metadata": {},
   "outputs": [
    {
     "data": {
      "text/plain": [
       "<AxesSubplot:xlabel='Count', ylabel='CANTIDAD'>"
      ]
     },
     "execution_count": 30,
     "metadata": {},
     "output_type": "execute_result"
    },
    {
     "data": {
      "image/png": "[encoded data removed]",
      "text/plain": [
       "<Figure size 1080x576 with 1 Axes>"
      ]
     },
     "metadata": {
      "needs_background": "light"
     },
     "output_type": "display_data"
    }
   ],
   "source": [
    "plt.figure(figsize=(15,8))\n",
    "sns.histplot(data=homicidios_df, y=\"CANTIDAD\")"
   ]
  },
  {
   "cell_type": "markdown",
   "id": "ae9df9d9-faa4-4245-b99c-b655d43a89eb",
   "metadata": {},
   "source": [
    "# 2. Limpieza y transformacion de los datos"
   ]
  },
  {
   "cell_type": "markdown",
   "id": "a6e67307-b5a8-47da-990e-ca8aac74abd4",
   "metadata": {},
   "source": [
    "## 2.1. Cambio del formato de fecha a datetime"
   ]
  },
  {
   "cell_type": "code",
   "execution_count": 32,
   "id": "9377a83e-d5a7-41b1-92c5-30df91502674",
   "metadata": {},
   "outputs": [
    {
     "data": {
      "text/plain": [
       "0         1/01/2010\n",
       "1         1/01/2010\n",
       "2         1/01/2010\n",
       "3         1/01/2010\n",
       "4         1/01/2010\n",
       "            ...    \n",
       "59805    16/04/2022\n",
       "59806    20/02/2022\n",
       "59807    20/02/2022\n",
       "59808    16/04/2022\n",
       "59809    16/04/2022\n",
       "Name: FECHA HECHO, Length: 59810, dtype: object"
      ]
     },
     "execution_count": 32,
     "metadata": {},
     "output_type": "execute_result"
    }
   ],
   "source": [
    "homicidios_df['FECHA HECHO']"
   ]
  },
  {
   "cell_type": "code",
   "execution_count": 35,
   "id": "b2315648-f063-498f-86e7-acc9cc6a6393",
   "metadata": {
    "tags": []
   },
   "outputs": [
    {
     "data": {
      "text/html": [
       "<div>\n",
       "<style scoped>\n",
       "    .dataframe tbody tr th:only-of-type {\n",
       "        vertical-align: middle;\n",
       "    }\n",
       "\n",
       "    .dataframe tbody tr th {\n",
       "        vertical-align: top;\n",
       "    }\n",
       "\n",
       "    .dataframe thead th {\n",
       "        text-align: right;\n",
       "    }\n",
       "</style>\n",
       "<table border=\"1\" class=\"dataframe\">\n",
       "  <thead>\n",
       "    <tr style=\"text-align: right;\">\n",
       "      <th></th>\n",
       "      <th>DEPARTAMENTO</th>\n",
       "      <th>MUNICIPIO</th>\n",
       "      <th>CODIGO DANE</th>\n",
       "      <th>ARMAS MEDIOS</th>\n",
       "      <th>FECHA HECHO</th>\n",
       "      <th>GENERO</th>\n",
       "      <th>GRUPO ETARÍO</th>\n",
       "      <th>DESCRIPCIÓN CONDUCTA</th>\n",
       "      <th>CANTIDAD</th>\n",
       "    </tr>\n",
       "  </thead>\n",
       "  <tbody>\n",
       "    <tr>\n",
       "      <th>0</th>\n",
       "      <td>ANTIOQUIA</td>\n",
       "      <td>LA CEJA</td>\n",
       "      <td>5376000</td>\n",
       "      <td>MOTO</td>\n",
       "      <td>2010-01-01</td>\n",
       "      <td>MASCULINO</td>\n",
       "      <td>ADULTOS</td>\n",
       "      <td>ARTÍCULO 109. HOMICIDIO CULPOSO ( EN ACCIDENTE...</td>\n",
       "      <td>1</td>\n",
       "    </tr>\n",
       "    <tr>\n",
       "      <th>1</th>\n",
       "      <td>ATLÁNTICO</td>\n",
       "      <td>BARRANQUILLA (CT)</td>\n",
       "      <td>8001000</td>\n",
       "      <td>MOTO</td>\n",
       "      <td>2010-01-01</td>\n",
       "      <td>FEMENINO</td>\n",
       "      <td>ADULTOS</td>\n",
       "      <td>ARTÍCULO 109. HOMICIDIO CULPOSO ( EN ACCIDENTE...</td>\n",
       "      <td>1</td>\n",
       "    </tr>\n",
       "    <tr>\n",
       "      <th>2</th>\n",
       "      <td>ATLÁNTICO</td>\n",
       "      <td>LURUACO</td>\n",
       "      <td>8421000</td>\n",
       "      <td>MOTO</td>\n",
       "      <td>2010-01-01</td>\n",
       "      <td>MASCULINO</td>\n",
       "      <td>ADULTOS</td>\n",
       "      <td>ARTÍCULO 109. HOMICIDIO CULPOSO ( EN ACCIDENTE...</td>\n",
       "      <td>1</td>\n",
       "    </tr>\n",
       "    <tr>\n",
       "      <th>3</th>\n",
       "      <td>CAQUETÁ</td>\n",
       "      <td>PUERTO RICO</td>\n",
       "      <td>18592000</td>\n",
       "      <td>MOTO</td>\n",
       "      <td>2010-01-01</td>\n",
       "      <td>MASCULINO</td>\n",
       "      <td>ADOLESCENTES</td>\n",
       "      <td>ARTÍCULO 109. HOMICIDIO CULPOSO ( EN ACCIDENTE...</td>\n",
       "      <td>1</td>\n",
       "    </tr>\n",
       "    <tr>\n",
       "      <th>4</th>\n",
       "      <td>CASANARE</td>\n",
       "      <td>AGUAZUL</td>\n",
       "      <td>85010000</td>\n",
       "      <td>MOTO</td>\n",
       "      <td>2010-01-01</td>\n",
       "      <td>MASCULINO</td>\n",
       "      <td>ADULTOS</td>\n",
       "      <td>ARTÍCULO 109. HOMICIDIO CULPOSO ( EN ACCIDENTE...</td>\n",
       "      <td>1</td>\n",
       "    </tr>\n",
       "    <tr>\n",
       "      <th>...</th>\n",
       "      <td>...</td>\n",
       "      <td>...</td>\n",
       "      <td>...</td>\n",
       "      <td>...</td>\n",
       "      <td>...</td>\n",
       "      <td>...</td>\n",
       "      <td>...</td>\n",
       "      <td>...</td>\n",
       "      <td>...</td>\n",
       "    </tr>\n",
       "    <tr>\n",
       "      <th>59805</th>\n",
       "      <td>VALLE</td>\n",
       "      <td>RIOFRÍO</td>\n",
       "      <td>76616000</td>\n",
       "      <td>NO REPORTADO</td>\n",
       "      <td>2022-04-16</td>\n",
       "      <td>MASCULINO</td>\n",
       "      <td>ADULTOS</td>\n",
       "      <td>ARTÍCULO 109. HOMICIDIO CULPOSO ( EN ACCIDENTE...</td>\n",
       "      <td>1</td>\n",
       "    </tr>\n",
       "    <tr>\n",
       "      <th>59806</th>\n",
       "      <td>VALLE</td>\n",
       "      <td>TORO</td>\n",
       "      <td>76823000</td>\n",
       "      <td>NO REPORTADO</td>\n",
       "      <td>2022-02-20</td>\n",
       "      <td>FEMENINO</td>\n",
       "      <td>ADULTOS</td>\n",
       "      <td>ARTÍCULO 109. HOMICIDIO CULPOSO ( EN ACCIDENTE...</td>\n",
       "      <td>1</td>\n",
       "    </tr>\n",
       "    <tr>\n",
       "      <th>59807</th>\n",
       "      <td>VALLE</td>\n",
       "      <td>TORO</td>\n",
       "      <td>76823000</td>\n",
       "      <td>NO REPORTADO</td>\n",
       "      <td>2022-02-20</td>\n",
       "      <td>MASCULINO</td>\n",
       "      <td>ADULTOS</td>\n",
       "      <td>ARTÍCULO 109. HOMICIDIO CULPOSO ( EN ACCIDENTE...</td>\n",
       "      <td>4</td>\n",
       "    </tr>\n",
       "    <tr>\n",
       "      <th>59808</th>\n",
       "      <td>VALLE</td>\n",
       "      <td>TULUÁ</td>\n",
       "      <td>76834000</td>\n",
       "      <td>NO REPORTADO</td>\n",
       "      <td>2022-04-16</td>\n",
       "      <td>FEMENINO</td>\n",
       "      <td>ADULTOS</td>\n",
       "      <td>ARTÍCULO 109. HOMICIDIO CULPOSO ( EN ACCIDENTE...</td>\n",
       "      <td>1</td>\n",
       "    </tr>\n",
       "    <tr>\n",
       "      <th>59809</th>\n",
       "      <td>VALLE</td>\n",
       "      <td>TULUÁ</td>\n",
       "      <td>76834000</td>\n",
       "      <td>NO REPORTADO</td>\n",
       "      <td>2022-04-16</td>\n",
       "      <td>MASCULINO</td>\n",
       "      <td>ADULTOS</td>\n",
       "      <td>ARTÍCULO 109. HOMICIDIO CULPOSO ( EN ACCIDENTE...</td>\n",
       "      <td>1</td>\n",
       "    </tr>\n",
       "  </tbody>\n",
       "</table>\n",
       "<p>59810 rows × 9 columns</p>\n",
       "</div>"
      ],
      "text/plain": [
       "      DEPARTAMENTO          MUNICIPIO  CODIGO DANE  ARMAS MEDIOS FECHA HECHO  \\\n",
       "0        ANTIOQUIA            LA CEJA      5376000          MOTO  2010-01-01   \n",
       "1        ATLÁNTICO  BARRANQUILLA (CT)      8001000          MOTO  2010-01-01   \n",
       "2        ATLÁNTICO            LURUACO      8421000          MOTO  2010-01-01   \n",
       "3          CAQUETÁ        PUERTO RICO     18592000          MOTO  2010-01-01   \n",
       "4         CASANARE            AGUAZUL     85010000          MOTO  2010-01-01   \n",
       "...            ...                ...          ...           ...         ...   \n",
       "59805        VALLE            RIOFRÍO     76616000  NO REPORTADO  2022-04-16   \n",
       "59806        VALLE               TORO     76823000  NO REPORTADO  2022-02-20   \n",
       "59807        VALLE               TORO     76823000  NO REPORTADO  2022-02-20   \n",
       "59808        VALLE              TULUÁ     76834000  NO REPORTADO  2022-04-16   \n",
       "59809        VALLE              TULUÁ     76834000  NO REPORTADO  2022-04-16   \n",
       "\n",
       "          GENERO  GRUPO ETARÍO  \\\n",
       "0      MASCULINO       ADULTOS   \n",
       "1       FEMENINO       ADULTOS   \n",
       "2      MASCULINO       ADULTOS   \n",
       "3      MASCULINO  ADOLESCENTES   \n",
       "4      MASCULINO       ADULTOS   \n",
       "...          ...           ...   \n",
       "59805  MASCULINO       ADULTOS   \n",
       "59806   FEMENINO       ADULTOS   \n",
       "59807  MASCULINO       ADULTOS   \n",
       "59808   FEMENINO       ADULTOS   \n",
       "59809  MASCULINO       ADULTOS   \n",
       "\n",
       "                                    DESCRIPCIÓN CONDUCTA  CANTIDAD  \n",
       "0      ARTÍCULO 109. HOMICIDIO CULPOSO ( EN ACCIDENTE...         1  \n",
       "1      ARTÍCULO 109. HOMICIDIO CULPOSO ( EN ACCIDENTE...         1  \n",
       "2      ARTÍCULO 109. HOMICIDIO CULPOSO ( EN ACCIDENTE...         1  \n",
       "3      ARTÍCULO 109. HOMICIDIO CULPOSO ( EN ACCIDENTE...         1  \n",
       "4      ARTÍCULO 109. HOMICIDIO CULPOSO ( EN ACCIDENTE...         1  \n",
       "...                                                  ...       ...  \n",
       "59805  ARTÍCULO 109. HOMICIDIO CULPOSO ( EN ACCIDENTE...         1  \n",
       "59806  ARTÍCULO 109. HOMICIDIO CULPOSO ( EN ACCIDENTE...         1  \n",
       "59807  ARTÍCULO 109. HOMICIDIO CULPOSO ( EN ACCIDENTE...         4  \n",
       "59808  ARTÍCULO 109. HOMICIDIO CULPOSO ( EN ACCIDENTE...         1  \n",
       "59809  ARTÍCULO 109. HOMICIDIO CULPOSO ( EN ACCIDENTE...         1  \n",
       "\n",
       "[59810 rows x 9 columns]"
      ]
     },
     "execution_count": 35,
     "metadata": {},
     "output_type": "execute_result"
    }
   ],
   "source": [
    "homicidios_df['FECHA HECHO'] = pd.to_datetime(homicidios_df['FECHA HECHO'])\n",
    "homicidios_df"
   ]
  },
  {
   "cell_type": "code",
   "execution_count": 36,
   "id": "99ad3f5f-ed1f-4103-9de1-918f6a7976d7",
   "metadata": {},
   "outputs": [
    {
     "data": {
      "text/plain": [
       "DEPARTAMENTO                    object\n",
       "MUNICIPIO                       object\n",
       "CODIGO DANE                      int64\n",
       "ARMAS MEDIOS                    object\n",
       "FECHA HECHO             datetime64[ns]\n",
       "GENERO                          object\n",
       "GRUPO ETARÍO                    object\n",
       "DESCRIPCIÓN CONDUCTA            object\n",
       "CANTIDAD                         int64\n",
       "dtype: object"
      ]
     },
     "execution_count": 36,
     "metadata": {},
     "output_type": "execute_result"
    }
   ],
   "source": [
    "homicidios_df.dtypes"
   ]
  },
  {
   "cell_type": "markdown",
   "id": "6f83d588-a1a4-41e4-ba85-9eda292eb011",
   "metadata": {},
   "source": [
    "# 3. Almacenamiento de los datos procesados"
   ]
  },
  {
   "cell_type": "code",
   "execution_count": 37,
   "id": "a4eb5b2b-71db-4847-a63a-a733e7d7e357",
   "metadata": {},
   "outputs": [],
   "source": [
    "homicidios_df.to_csv('../../Data/DATOS_LIMPIOS/homicidios.csv', encoding='utf-8', index=False)"
   ]
  },
  {
   "cell_type": "code",
   "execution_count": null,
   "id": "19948e6b-707f-4d59-8a84-f29b50726456",
   "metadata": {},
   "outputs": [],
   "source": []
  }
 ],
 "metadata": {
  "kernelspec": {
   "display_name": "gestion de datos",
   "language": "python",
   "name": "gestion_de_datos"
  },
  "language_info": {
   "codemirror_mode": {
    "name": "ipython",
    "version": 3
   },
   "file_extension": ".py",
   "mimetype": "text/x-python",
   "name": "python",
   "nbconvert_exporter": "python",
   "pygments_lexer": "ipython3",
   "version": "3.8.13"
  }
 },
 "nbformat": 4,
 "nbformat_minor": 5
}
