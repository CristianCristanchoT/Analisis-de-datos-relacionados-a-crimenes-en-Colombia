{
 "cells": [
  {
   "cell_type": "code",
   "execution_count": 1,
   "id": "248f6182-257f-4e91-9a22-f01242211aea",
   "metadata": {},
   "outputs": [],
   "source": [
    "import pandas as pd\n",
    "import matplotlib as plt\n",
    "import seaborn as sns\n",
    "import numpy as np"
   ]
  },
  {
   "cell_type": "code",
   "execution_count": null,
   "id": "7288a928-2353-42c6-a132-5798cdfd2e7c",
   "metadata": {},
   "outputs": [],
   "source": []
  },
  {
   "cell_type": "code",
   "execution_count": null,
   "id": "d87a6662-3cf7-413c-ad26-d410198b1a3b",
   "metadata": {},
   "outputs": [],
   "source": []
  },
  {
   "cell_type": "code",
   "execution_count": null,
   "id": "405b920e-244f-4002-afaa-806260b77b32",
   "metadata": {},
   "outputs": [],
   "source": []
  },
  {
   "cell_type": "markdown",
   "id": "cb389c33-19e5-4457-b2b0-c1f15ffd4cc3",
   "metadata": {},
   "source": [
    "# 1. Exploracion de los datos"
   ]
  },
  {
   "cell_type": "code",
   "execution_count": null,
   "id": "65457bc9-d90f-4dda-93b9-4e63e93d10e3",
   "metadata": {},
   "outputs": [],
   "source": []
  },
  {
   "cell_type": "code",
   "execution_count": null,
   "id": "49ac5085-426a-406d-8351-a9fc5cc7d728",
   "metadata": {},
   "outputs": [],
   "source": []
  },
  {
   "cell_type": "code",
   "execution_count": null,
   "id": "51a75dbc-6aa9-4727-9a1c-bbf1dc46dcde",
   "metadata": {},
   "outputs": [],
   "source": []
  },
  {
   "cell_type": "code",
   "execution_count": null,
   "id": "5754b2ab-cb4a-4278-b54a-aabe7a2bfb61",
   "metadata": {},
   "outputs": [],
   "source": []
  },
  {
   "cell_type": "markdown",
   "id": "af7cdcf6-c821-4543-bb76-7b833ee098aa",
   "metadata": {},
   "source": [
    "# 2. Limpieza y transformacion de los datos"
   ]
  },
  {
   "cell_type": "code",
   "execution_count": null,
   "id": "9a51bc2e-8842-49e7-ab50-04699b376e4b",
   "metadata": {},
   "outputs": [],
   "source": []
  },
  {
   "cell_type": "code",
   "execution_count": null,
   "id": "18dfa1da-63f8-414d-a4cf-d60402411ea4",
   "metadata": {},
   "outputs": [],
   "source": []
  },
  {
   "cell_type": "code",
   "execution_count": null,
   "id": "03049532-a01c-4150-9477-3c6e6fc58037",
   "metadata": {},
   "outputs": [],
   "source": []
  },
  {
   "cell_type": "code",
   "execution_count": null,
   "id": "cd5fec13-da41-4d55-a089-1691dcaf39c9",
   "metadata": {},
   "outputs": [],
   "source": []
  },
  {
   "cell_type": "code",
   "execution_count": null,
   "id": "8f9741b3-e9f2-4a93-9d25-cdfdc3e2dbf2",
   "metadata": {},
   "outputs": [],
   "source": []
  },
  {
   "cell_type": "markdown",
   "id": "11a17446-4107-49f6-8c27-b34928653318",
   "metadata": {},
   "source": [
    "# 3. Almacenamiento de los datos procesados"
   ]
  },
  {
   "cell_type": "code",
   "execution_count": null,
   "id": "d6541ff4-2346-4e51-a032-ffc2245cc993",
   "metadata": {},
   "outputs": [],
   "source": []
  },
  {
   "cell_type": "code",
   "execution_count": null,
   "id": "4576eeff-2ce4-4da2-a831-984691442fac",
   "metadata": {},
   "outputs": [],
   "source": []
  },
  {
   "cell_type": "code",
   "execution_count": null,
   "id": "dc089f2e-e14e-45bf-844a-6b3dd1acf804",
   "metadata": {},
   "outputs": [],
   "source": []
  },
  {
   "cell_type": "code",
   "execution_count": null,
   "id": "79bed2bd-1466-45ba-8a91-07cea12f0355",
   "metadata": {},
   "outputs": [],
   "source": []
  }
 ],
 "metadata": {
  "kernelspec": {
   "display_name": "gestion de datos",
   "language": "python",
   "name": "gestion_de_datos"
  },
  "language_info": {
   "codemirror_mode": {
    "name": "ipython",
    "version": 3
   },
   "file_extension": ".py",
   "mimetype": "text/x-python",
   "name": "python",
   "nbconvert_exporter": "python",
   "pygments_lexer": "ipython3",
   "version": "3.8.13"
  }
 },
 "nbformat": 4,
 "nbformat_minor": 5
}
