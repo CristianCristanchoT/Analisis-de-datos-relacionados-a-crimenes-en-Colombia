{
 "cells": [
  {
   "cell_type": "code",
   "execution_count": 2,
   "id": "248f6182-257f-4e91-9a22-f01242211aea",
   "metadata": {},
   "outputs": [],
   "source": [
    "import pandas as pd\n",
    "from matplotlib import pyplot as plt\n",
    "import seaborn as sns\n",
    "import numpy as np"
   ]
  },
  {
   "cell_type": "code",
   "execution_count": 3,
   "id": "7288a928-2353-42c6-a132-5798cdfd2e7c",
   "metadata": {},
   "outputs": [
    {
     "name": "stderr",
     "output_type": "stream",
     "text": [
      "C:\\Users\\crist\\AppData\\Local\\Temp\\ipykernel_19644\\1681295983.py:1: DtypeWarning: Columns (2) have mixed types. Specify dtype option on import or set low_memory=False.\n",
      "  violencia_intrafamiliar_df = pd.read_csv('../../Data/Reporte_Delito_Violencia_Intrafamiliar_Polic_a_Nacional.csv')\n"
     ]
    },
    {
     "data": {
      "text/html": [
       "<div>\n",
       "<style scoped>\n",
       "    .dataframe tbody tr th:only-of-type {\n",
       "        vertical-align: middle;\n",
       "    }\n",
       "\n",
       "    .dataframe tbody tr th {\n",
       "        vertical-align: top;\n",
       "    }\n",
       "\n",
       "    .dataframe thead th {\n",
       "        text-align: right;\n",
       "    }\n",
       "</style>\n",
       "<table border=\"1\" class=\"dataframe\">\n",
       "  <thead>\n",
       "    <tr style=\"text-align: right;\">\n",
       "      <th></th>\n",
       "      <th>DEPARTAMENTO</th>\n",
       "      <th>MUNICIPIO</th>\n",
       "      <th>CODIGO DANE</th>\n",
       "      <th>ARMAS MEDIOS</th>\n",
       "      <th>FECHA HECHO</th>\n",
       "      <th>GENERO</th>\n",
       "      <th>GRUPO ETARIO</th>\n",
       "      <th>CANTIDAD</th>\n",
       "    </tr>\n",
       "  </thead>\n",
       "  <tbody>\n",
       "    <tr>\n",
       "      <th>0</th>\n",
       "      <td>ATLÁNTICO</td>\n",
       "      <td>BARRANQUILLA (CT)</td>\n",
       "      <td>8001000</td>\n",
       "      <td>ARMA BLANCA / CORTOPUNZANTE</td>\n",
       "      <td>1/01/2010</td>\n",
       "      <td>MASCULINO</td>\n",
       "      <td>ADULTOS</td>\n",
       "      <td>1</td>\n",
       "    </tr>\n",
       "    <tr>\n",
       "      <th>1</th>\n",
       "      <td>BOYACÁ</td>\n",
       "      <td>DUITAMA</td>\n",
       "      <td>15238000</td>\n",
       "      <td>ARMA BLANCA / CORTOPUNZANTE</td>\n",
       "      <td>1/01/2010</td>\n",
       "      <td>FEMENINO</td>\n",
       "      <td>ADULTOS</td>\n",
       "      <td>1</td>\n",
       "    </tr>\n",
       "    <tr>\n",
       "      <th>2</th>\n",
       "      <td>CAQUETÁ</td>\n",
       "      <td>PUERTO RICO</td>\n",
       "      <td>18592000</td>\n",
       "      <td>ARMA BLANCA / CORTOPUNZANTE</td>\n",
       "      <td>1/01/2010</td>\n",
       "      <td>MASCULINO</td>\n",
       "      <td>ADULTOS</td>\n",
       "      <td>1</td>\n",
       "    </tr>\n",
       "    <tr>\n",
       "      <th>3</th>\n",
       "      <td>CASANARE</td>\n",
       "      <td>MANÍ</td>\n",
       "      <td>85139000</td>\n",
       "      <td>ARMA BLANCA / CORTOPUNZANTE</td>\n",
       "      <td>1/01/2010</td>\n",
       "      <td>FEMENINO</td>\n",
       "      <td>ADULTOS</td>\n",
       "      <td>1</td>\n",
       "    </tr>\n",
       "    <tr>\n",
       "      <th>4</th>\n",
       "      <td>CUNDINAMARCA</td>\n",
       "      <td>BOGOTÁ D.C. (CT)</td>\n",
       "      <td>11001000</td>\n",
       "      <td>ARMA BLANCA / CORTOPUNZANTE</td>\n",
       "      <td>1/01/2010</td>\n",
       "      <td>FEMENINO</td>\n",
       "      <td>ADULTOS</td>\n",
       "      <td>1</td>\n",
       "    </tr>\n",
       "    <tr>\n",
       "      <th>...</th>\n",
       "      <td>...</td>\n",
       "      <td>...</td>\n",
       "      <td>...</td>\n",
       "      <td>...</td>\n",
       "      <td>...</td>\n",
       "      <td>...</td>\n",
       "      <td>...</td>\n",
       "      <td>...</td>\n",
       "    </tr>\n",
       "    <tr>\n",
       "      <th>528875</th>\n",
       "      <td>VICHADA</td>\n",
       "      <td>PUERTO CARREÑO (CT)</td>\n",
       "      <td>99001000</td>\n",
       "      <td>SIN EMPLEO DE ARMAS</td>\n",
       "      <td>17/04/2022</td>\n",
       "      <td>FEMENINO</td>\n",
       "      <td>ADULTOS</td>\n",
       "      <td>1</td>\n",
       "    </tr>\n",
       "    <tr>\n",
       "      <th>528876</th>\n",
       "      <td>VICHADA</td>\n",
       "      <td>SANTA ROSALÍA</td>\n",
       "      <td>99624000</td>\n",
       "      <td>SIN EMPLEO DE ARMAS</td>\n",
       "      <td>18/01/2022</td>\n",
       "      <td>FEMENINO</td>\n",
       "      <td>MENORES</td>\n",
       "      <td>1</td>\n",
       "    </tr>\n",
       "    <tr>\n",
       "      <th>528877</th>\n",
       "      <td>VICHADA</td>\n",
       "      <td>SANTA ROSALÍA</td>\n",
       "      <td>99624000</td>\n",
       "      <td>SIN EMPLEO DE ARMAS</td>\n",
       "      <td>12/02/2022</td>\n",
       "      <td>FEMENINO</td>\n",
       "      <td>ADULTOS</td>\n",
       "      <td>1</td>\n",
       "    </tr>\n",
       "    <tr>\n",
       "      <th>528878</th>\n",
       "      <td>VICHADA</td>\n",
       "      <td>SANTA ROSALÍA</td>\n",
       "      <td>99624000</td>\n",
       "      <td>SIN EMPLEO DE ARMAS</td>\n",
       "      <td>16/02/2022</td>\n",
       "      <td>FEMENINO</td>\n",
       "      <td>ADULTOS</td>\n",
       "      <td>1</td>\n",
       "    </tr>\n",
       "    <tr>\n",
       "      <th>528879</th>\n",
       "      <td>VICHADA</td>\n",
       "      <td>SANTA ROSALÍA</td>\n",
       "      <td>99624000</td>\n",
       "      <td>SIN EMPLEO DE ARMAS</td>\n",
       "      <td>6/03/2022</td>\n",
       "      <td>FEMENINO</td>\n",
       "      <td>ADULTOS</td>\n",
       "      <td>1</td>\n",
       "    </tr>\n",
       "  </tbody>\n",
       "</table>\n",
       "<p>528880 rows × 8 columns</p>\n",
       "</div>"
      ],
      "text/plain": [
       "        DEPARTAMENTO            MUNICIPIO CODIGO DANE  \\\n",
       "0          ATLÁNTICO    BARRANQUILLA (CT)     8001000   \n",
       "1             BOYACÁ              DUITAMA    15238000   \n",
       "2            CAQUETÁ          PUERTO RICO    18592000   \n",
       "3           CASANARE                 MANÍ    85139000   \n",
       "4       CUNDINAMARCA     BOGOTÁ D.C. (CT)    11001000   \n",
       "...              ...                  ...         ...   \n",
       "528875       VICHADA  PUERTO CARREÑO (CT)    99001000   \n",
       "528876       VICHADA        SANTA ROSALÍA    99624000   \n",
       "528877       VICHADA        SANTA ROSALÍA    99624000   \n",
       "528878       VICHADA        SANTA ROSALÍA    99624000   \n",
       "528879       VICHADA        SANTA ROSALÍA    99624000   \n",
       "\n",
       "                       ARMAS MEDIOS FECHA HECHO     GENERO GRUPO ETARIO  \\\n",
       "0       ARMA BLANCA / CORTOPUNZANTE   1/01/2010  MASCULINO      ADULTOS   \n",
       "1       ARMA BLANCA / CORTOPUNZANTE   1/01/2010   FEMENINO      ADULTOS   \n",
       "2       ARMA BLANCA / CORTOPUNZANTE   1/01/2010  MASCULINO      ADULTOS   \n",
       "3       ARMA BLANCA / CORTOPUNZANTE   1/01/2010   FEMENINO      ADULTOS   \n",
       "4       ARMA BLANCA / CORTOPUNZANTE   1/01/2010   FEMENINO      ADULTOS   \n",
       "...                             ...         ...        ...          ...   \n",
       "528875          SIN EMPLEO DE ARMAS  17/04/2022   FEMENINO      ADULTOS   \n",
       "528876          SIN EMPLEO DE ARMAS  18/01/2022   FEMENINO      MENORES   \n",
       "528877          SIN EMPLEO DE ARMAS  12/02/2022   FEMENINO      ADULTOS   \n",
       "528878          SIN EMPLEO DE ARMAS  16/02/2022   FEMENINO      ADULTOS   \n",
       "528879          SIN EMPLEO DE ARMAS   6/03/2022   FEMENINO      ADULTOS   \n",
       "\n",
       "        CANTIDAD  \n",
       "0              1  \n",
       "1              1  \n",
       "2              1  \n",
       "3              1  \n",
       "4              1  \n",
       "...          ...  \n",
       "528875         1  \n",
       "528876         1  \n",
       "528877         1  \n",
       "528878         1  \n",
       "528879         1  \n",
       "\n",
       "[528880 rows x 8 columns]"
      ]
     },
     "execution_count": 3,
     "metadata": {},
     "output_type": "execute_result"
    }
   ],
   "source": [
    "violencia_intrafamiliar_df = pd.read_csv('../../Data/Reporte_Delito_Violencia_Intrafamiliar_Polic_a_Nacional.csv')\n",
    "violencia_intrafamiliar_df"
   ]
  },
  {
   "cell_type": "markdown",
   "id": "cb389c33-19e5-4457-b2b0-c1f15ffd4cc3",
   "metadata": {},
   "source": [
    "# 1. Exploracion de los datos"
   ]
  },
  {
   "cell_type": "code",
   "execution_count": 4,
   "id": "65457bc9-d90f-4dda-93b9-4e63e93d10e3",
   "metadata": {},
   "outputs": [
    {
     "data": {
      "text/plain": [
       "(528880, 8)"
      ]
     },
     "execution_count": 4,
     "metadata": {},
     "output_type": "execute_result"
    }
   ],
   "source": [
    "violencia_intrafamiliar_df.shape"
   ]
  },
  {
   "cell_type": "code",
   "execution_count": 5,
   "id": "49ac5085-426a-406d-8351-a9fc5cc7d728",
   "metadata": {},
   "outputs": [
    {
     "data": {
      "text/plain": [
       "DEPARTAMENTO    object\n",
       "MUNICIPIO       object\n",
       "CODIGO DANE     object\n",
       "ARMAS MEDIOS    object\n",
       "FECHA HECHO     object\n",
       "GENERO          object\n",
       "GRUPO ETARIO    object\n",
       "CANTIDAD         int64\n",
       "dtype: object"
      ]
     },
     "execution_count": 5,
     "metadata": {},
     "output_type": "execute_result"
    }
   ],
   "source": [
    "violencia_intrafamiliar_df.dtypes"
   ]
  },
  {
   "cell_type": "markdown",
   "id": "28cdb350-6197-4ba7-b980-ed9e039667ea",
   "metadata": {},
   "source": [
    "### Revision de datos NaN o faltantes"
   ]
  },
  {
   "cell_type": "code",
   "execution_count": 6,
   "id": "5754b2ab-cb4a-4278-b54a-aabe7a2bfb61",
   "metadata": {},
   "outputs": [
    {
     "data": {
      "text/plain": [
       "DEPARTAMENTO       0\n",
       "MUNICIPIO          0\n",
       "CODIGO DANE        0\n",
       "ARMAS MEDIOS       0\n",
       "FECHA HECHO        0\n",
       "GENERO             0\n",
       "GRUPO ETARIO    1611\n",
       "CANTIDAD           0\n",
       "dtype: int64"
      ]
     },
     "execution_count": 6,
     "metadata": {},
     "output_type": "execute_result"
    }
   ],
   "source": [
    "violencia_intrafamiliar_df.isna().sum()"
   ]
  },
  {
   "cell_type": "code",
   "execution_count": null,
   "id": "448e5168-e8d4-4b3e-8582-57062c5915ee",
   "metadata": {},
   "outputs": [],
   "source": []
  },
  {
   "cell_type": "markdown",
   "id": "4a30e284-ea34-4daf-b560-4e94e6ea0988",
   "metadata": {},
   "source": [
    "## 1.1 Analizando la columna DEPARTAMENTO"
   ]
  },
  {
   "cell_type": "code",
   "execution_count": 7,
   "id": "a153fef5-3553-42ec-9181-5273500212f2",
   "metadata": {},
   "outputs": [
    {
     "data": {
      "text/plain": [
       "['AMAZONAS',\n",
       " 'ANTIOQUIA',\n",
       " 'ARAUCA',\n",
       " 'ATLÁNTICO',\n",
       " 'BOLÍVAR',\n",
       " 'BOYACÁ',\n",
       " 'CALDAS',\n",
       " 'CAQUETÁ',\n",
       " 'CASANARE',\n",
       " 'CAUCA',\n",
       " 'CESAR',\n",
       " 'CHOCÓ',\n",
       " 'CUNDINAMARCA',\n",
       " 'CÓRDOBA',\n",
       " 'GUAINÍA',\n",
       " 'GUAJIRA',\n",
       " 'GUAVIARE',\n",
       " 'HUILA',\n",
       " 'MAGDALENA',\n",
       " 'META',\n",
       " 'NARIÑO',\n",
       " 'NO REPORTA',\n",
       " 'NORTE DE SANTANDER',\n",
       " 'PUTUMAYO',\n",
       " 'QUINDÍO',\n",
       " 'RISARALDA',\n",
       " 'SAN ANDRÉS',\n",
       " 'SANTANDER',\n",
       " 'SUCRE',\n",
       " 'TOLIMA',\n",
       " 'VALLE',\n",
       " 'VAUPÉS',\n",
       " 'VICHADA']"
      ]
     },
     "execution_count": 7,
     "metadata": {},
     "output_type": "execute_result"
    }
   ],
   "source": [
    "departamentos = list(violencia_intrafamiliar_df['DEPARTAMENTO'].unique())\n",
    "departamentos.sort()\n",
    "departamentos"
   ]
  },
  {
   "cell_type": "code",
   "execution_count": 8,
   "id": "0ca3af70-3cf1-4cd6-9155-5f4899ef5ace",
   "metadata": {},
   "outputs": [
    {
     "data": {
      "text/plain": [
       "33"
      ]
     },
     "execution_count": 8,
     "metadata": {},
     "output_type": "execute_result"
    }
   ],
   "source": [
    "len(departamentos)"
   ]
  },
  {
   "cell_type": "code",
   "execution_count": 9,
   "id": "e2400db7-77ab-4a6e-9805-9df83dd90182",
   "metadata": {},
   "outputs": [
    {
     "data": {
      "text/plain": [
       "<AxesSubplot:xlabel='Count', ylabel='DEPARTAMENTO'>"
      ]
     },
     "execution_count": 9,
     "metadata": {},
     "output_type": "execute_result"
    },
    {
     "data": {
      "image/png": "[encoded data removed]",
      "text/plain": [
       "<Figure size 1080x576 with 1 Axes>"
      ]
     },
     "metadata": {
      "needs_background": "light"
     },
     "output_type": "display_data"
    }
   ],
   "source": [
    "plt.figure(figsize=(15,8))\n",
    "sns.histplot(data=violencia_intrafamiliar_df, y=\"DEPARTAMENTO\")"
   ]
  },
  {
   "cell_type": "markdown",
   "id": "247a77d6-a0a7-4be0-abf9-6b3c40b49d66",
   "metadata": {},
   "source": [
    "## 1.2 Analizando la columna MUNICIPIO"
   ]
  },
  {
   "cell_type": "code",
   "execution_count": 11,
   "id": "4d56a2ce-fa6a-4b9d-a62d-be71d63a65bd",
   "metadata": {},
   "outputs": [
    {
     "data": {
      "text/plain": [
       "['ABEJORRAL',\n",
       " 'ABREGO',\n",
       " 'ABRIAQUÍ',\n",
       " 'ACACÍAS',\n",
       " 'ACANDÍ',\n",
       " 'ACEVEDO',\n",
       " 'ACHÍ',\n",
       " 'AGRADO',\n",
       " 'AGUA DE DIOS',\n",
       " 'AGUACHICA']"
      ]
     },
     "execution_count": 11,
     "metadata": {},
     "output_type": "execute_result"
    }
   ],
   "source": [
    "municipios =  list(violencia_intrafamiliar_df['MUNICIPIO'].unique())\n",
    "municipios.sort()\n",
    "municipios[:10]"
   ]
  },
  {
   "cell_type": "code",
   "execution_count": 12,
   "id": "2b871f8f-fb87-430a-9b5e-002bf0925d02",
   "metadata": {},
   "outputs": [
    {
     "data": {
      "text/plain": [
       "1022"
      ]
     },
     "execution_count": 12,
     "metadata": {},
     "output_type": "execute_result"
    }
   ],
   "source": [
    "len(municipios)"
   ]
  },
  {
   "cell_type": "markdown",
   "id": "36f05ad7-9bef-44fe-a022-b582a90ba61c",
   "metadata": {},
   "source": [
    "## 1.3 Analizando la columna ARMAS MEDIOS"
   ]
  },
  {
   "cell_type": "code",
   "execution_count": 13,
   "id": "2327734e-fc95-4315-88b5-ac4a38e44137",
   "metadata": {},
   "outputs": [
    {
     "data": {
      "text/plain": [
       "['ARMA BLANCA / CORTOPUNZANTE',\n",
       " 'ARMA DE FUEGO',\n",
       " 'CONTUNDENTES',\n",
       " 'CORTANTES',\n",
       " 'CORTOPUNZANTES',\n",
       " 'NO REPORTADO',\n",
       " 'PUNZANTES',\n",
       " 'SIN EMPLEO DE ARMAS',\n",
       " 'NO REPORTA',\n",
       " 'ESCOPOLAMINA',\n",
       " '-']"
      ]
     },
     "execution_count": 13,
     "metadata": {},
     "output_type": "execute_result"
    }
   ],
   "source": [
    "list(violencia_intrafamiliar_df['ARMAS MEDIOS'].unique())"
   ]
  },
  {
   "cell_type": "code",
   "execution_count": 14,
   "id": "6fe517a7-e7c5-4fa2-9c48-f65e6e5582d4",
   "metadata": {},
   "outputs": [
    {
     "data": {
      "text/plain": [
       "<AxesSubplot:xlabel='Count', ylabel='ARMAS MEDIOS'>"
      ]
     },
     "execution_count": 14,
     "metadata": {},
     "output_type": "execute_result"
    },
    {
     "data": {
      "image/png": "[encoded data removed]",
      "text/plain": [
       "<Figure size 1080x576 with 1 Axes>"
      ]
     },
     "metadata": {
      "needs_background": "light"
     },
     "output_type": "display_data"
    }
   ],
   "source": [
    "plt.figure(figsize=(15,8))\n",
    "sns.histplot(data=violencia_intrafamiliar_df, y=\"ARMAS MEDIOS\")"
   ]
  },
  {
   "cell_type": "markdown",
   "id": "254ed45e-d4cf-4572-8dd9-5ab0824cb41c",
   "metadata": {},
   "source": [
    "## 1.4 Analizando la columna GENERO"
   ]
  },
  {
   "cell_type": "code",
   "execution_count": 15,
   "id": "9f671cb5-a0e6-42c0-9b0b-9b0d0425d1a0",
   "metadata": {},
   "outputs": [
    {
     "data": {
      "text/plain": [
       "['MASCULINO', 'FEMENINO', 'NO REPORTA', '-', 'NO REPORTADO']"
      ]
     },
     "execution_count": 15,
     "metadata": {},
     "output_type": "execute_result"
    }
   ],
   "source": [
    "list(violencia_intrafamiliar_df['GENERO'].unique())"
   ]
  },
  {
   "cell_type": "code",
   "execution_count": 16,
   "id": "5fd826e8-ffe4-4e35-a138-cca3f73a4eb4",
   "metadata": {},
   "outputs": [
    {
     "data": {
      "text/plain": [
       "<AxesSubplot:xlabel='Count', ylabel='GENERO'>"
      ]
     },
     "execution_count": 16,
     "metadata": {},
     "output_type": "execute_result"
    },
    {
     "data": {
      "image/png": "[encoded data removed]",
      "text/plain": [
       "<Figure size 1080x576 with 1 Axes>"
      ]
     },
     "metadata": {
      "needs_background": "light"
     },
     "output_type": "display_data"
    }
   ],
   "source": [
    "plt.figure(figsize=(15,8))\n",
    "sns.histplot(data=violencia_intrafamiliar_df, y=\"GENERO\")"
   ]
  },
  {
   "cell_type": "markdown",
   "id": "a4c0c9b1-22c0-4f6f-8d69-79528057ceff",
   "metadata": {},
   "source": [
    "## 1.5 Analizando la columna GRUPO ETARIO"
   ]
  },
  {
   "cell_type": "code",
   "execution_count": 17,
   "id": "bb54698f-9b52-44e9-bbbb-283c78f7fd68",
   "metadata": {},
   "outputs": [
    {
     "data": {
      "text/plain": [
       "['ADULTOS', 'ADOLESCENTES', 'MENORES', 'NO REPORTA', nan, 'NO REPORTADO']"
      ]
     },
     "execution_count": 17,
     "metadata": {},
     "output_type": "execute_result"
    }
   ],
   "source": [
    "list(violencia_intrafamiliar_df['GRUPO ETARIO'].unique())"
   ]
  },
  {
   "cell_type": "code",
   "execution_count": 18,
   "id": "601904ff-239b-4ef2-801d-a68d94fe8d3d",
   "metadata": {},
   "outputs": [
    {
     "data": {
      "text/plain": [
       "<AxesSubplot:xlabel='Count', ylabel='GRUPO ETARIO'>"
      ]
     },
     "execution_count": 18,
     "metadata": {},
     "output_type": "execute_result"
    },
    {
     "data": {
      "image/png": "[encoded data removed]",
      "text/plain": [
       "<Figure size 1080x576 with 1 Axes>"
      ]
     },
     "metadata": {
      "needs_background": "light"
     },
     "output_type": "display_data"
    }
   ],
   "source": [
    "plt.figure(figsize=(15,8))\n",
    "sns.histplot(data=violencia_intrafamiliar_df, y=\"GRUPO ETARIO\")"
   ]
  },
  {
   "cell_type": "markdown",
   "id": "7e0c122d-1927-4da6-b579-0a69df5958fd",
   "metadata": {},
   "source": [
    "## 1.6 Analizando la columna CANTIDAD "
   ]
  },
  {
   "cell_type": "code",
   "execution_count": 19,
   "id": "9d8df6f1-0938-4740-b54f-8b449e987b1d",
   "metadata": {},
   "outputs": [
    {
     "data": {
      "text/plain": [
       "<AxesSubplot:xlabel='Count', ylabel='CANTIDAD'>"
      ]
     },
     "execution_count": 19,
     "metadata": {},
     "output_type": "execute_result"
    },
    {
     "data": {
      "image/png": "[encoded data removed]",
      "text/plain": [
       "<Figure size 1080x576 with 1 Axes>"
      ]
     },
     "metadata": {
      "needs_background": "light"
     },
     "output_type": "display_data"
    }
   ],
   "source": [
    "plt.figure(figsize=(15,8))\n",
    "sns.histplot(data=violencia_intrafamiliar_df, y=\"CANTIDAD\")"
   ]
  },
  {
   "cell_type": "markdown",
   "id": "af7cdcf6-c821-4543-bb76-7b833ee098aa",
   "metadata": {},
   "source": [
    "# 2. Limpieza y transformacion de los datos"
   ]
  },
  {
   "cell_type": "markdown",
   "id": "6495e11d-08a3-40aa-a12a-0c589705692d",
   "metadata": {},
   "source": [
    "## 2.1. Eliminacion de los registros incompletos "
   ]
  },
  {
   "cell_type": "code",
   "execution_count": 20,
   "id": "9a51bc2e-8842-49e7-ab50-04699b376e4b",
   "metadata": {},
   "outputs": [
    {
     "data": {
      "text/html": [
       "<div>\n",
       "<style scoped>\n",
       "    .dataframe tbody tr th:only-of-type {\n",
       "        vertical-align: middle;\n",
       "    }\n",
       "\n",
       "    .dataframe tbody tr th {\n",
       "        vertical-align: top;\n",
       "    }\n",
       "\n",
       "    .dataframe thead th {\n",
       "        text-align: right;\n",
       "    }\n",
       "</style>\n",
       "<table border=\"1\" class=\"dataframe\">\n",
       "  <thead>\n",
       "    <tr style=\"text-align: right;\">\n",
       "      <th></th>\n",
       "      <th>DEPARTAMENTO</th>\n",
       "      <th>MUNICIPIO</th>\n",
       "      <th>CODIGO DANE</th>\n",
       "      <th>ARMAS MEDIOS</th>\n",
       "      <th>FECHA HECHO</th>\n",
       "      <th>GENERO</th>\n",
       "      <th>GRUPO ETARIO</th>\n",
       "      <th>CANTIDAD</th>\n",
       "    </tr>\n",
       "  </thead>\n",
       "  <tbody>\n",
       "    <tr>\n",
       "      <th>0</th>\n",
       "      <td>ATLÁNTICO</td>\n",
       "      <td>BARRANQUILLA (CT)</td>\n",
       "      <td>8001000</td>\n",
       "      <td>ARMA BLANCA / CORTOPUNZANTE</td>\n",
       "      <td>1/01/2010</td>\n",
       "      <td>MASCULINO</td>\n",
       "      <td>ADULTOS</td>\n",
       "      <td>1</td>\n",
       "    </tr>\n",
       "    <tr>\n",
       "      <th>1</th>\n",
       "      <td>BOYACÁ</td>\n",
       "      <td>DUITAMA</td>\n",
       "      <td>15238000</td>\n",
       "      <td>ARMA BLANCA / CORTOPUNZANTE</td>\n",
       "      <td>1/01/2010</td>\n",
       "      <td>FEMENINO</td>\n",
       "      <td>ADULTOS</td>\n",
       "      <td>1</td>\n",
       "    </tr>\n",
       "    <tr>\n",
       "      <th>2</th>\n",
       "      <td>CAQUETÁ</td>\n",
       "      <td>PUERTO RICO</td>\n",
       "      <td>18592000</td>\n",
       "      <td>ARMA BLANCA / CORTOPUNZANTE</td>\n",
       "      <td>1/01/2010</td>\n",
       "      <td>MASCULINO</td>\n",
       "      <td>ADULTOS</td>\n",
       "      <td>1</td>\n",
       "    </tr>\n",
       "    <tr>\n",
       "      <th>3</th>\n",
       "      <td>CASANARE</td>\n",
       "      <td>MANÍ</td>\n",
       "      <td>85139000</td>\n",
       "      <td>ARMA BLANCA / CORTOPUNZANTE</td>\n",
       "      <td>1/01/2010</td>\n",
       "      <td>FEMENINO</td>\n",
       "      <td>ADULTOS</td>\n",
       "      <td>1</td>\n",
       "    </tr>\n",
       "    <tr>\n",
       "      <th>4</th>\n",
       "      <td>CUNDINAMARCA</td>\n",
       "      <td>BOGOTÁ D.C. (CT)</td>\n",
       "      <td>11001000</td>\n",
       "      <td>ARMA BLANCA / CORTOPUNZANTE</td>\n",
       "      <td>1/01/2010</td>\n",
       "      <td>FEMENINO</td>\n",
       "      <td>ADULTOS</td>\n",
       "      <td>1</td>\n",
       "    </tr>\n",
       "    <tr>\n",
       "      <th>...</th>\n",
       "      <td>...</td>\n",
       "      <td>...</td>\n",
       "      <td>...</td>\n",
       "      <td>...</td>\n",
       "      <td>...</td>\n",
       "      <td>...</td>\n",
       "      <td>...</td>\n",
       "      <td>...</td>\n",
       "    </tr>\n",
       "    <tr>\n",
       "      <th>528875</th>\n",
       "      <td>VICHADA</td>\n",
       "      <td>PUERTO CARREÑO (CT)</td>\n",
       "      <td>99001000</td>\n",
       "      <td>SIN EMPLEO DE ARMAS</td>\n",
       "      <td>17/04/2022</td>\n",
       "      <td>FEMENINO</td>\n",
       "      <td>ADULTOS</td>\n",
       "      <td>1</td>\n",
       "    </tr>\n",
       "    <tr>\n",
       "      <th>528876</th>\n",
       "      <td>VICHADA</td>\n",
       "      <td>SANTA ROSALÍA</td>\n",
       "      <td>99624000</td>\n",
       "      <td>SIN EMPLEO DE ARMAS</td>\n",
       "      <td>18/01/2022</td>\n",
       "      <td>FEMENINO</td>\n",
       "      <td>MENORES</td>\n",
       "      <td>1</td>\n",
       "    </tr>\n",
       "    <tr>\n",
       "      <th>528877</th>\n",
       "      <td>VICHADA</td>\n",
       "      <td>SANTA ROSALÍA</td>\n",
       "      <td>99624000</td>\n",
       "      <td>SIN EMPLEO DE ARMAS</td>\n",
       "      <td>12/02/2022</td>\n",
       "      <td>FEMENINO</td>\n",
       "      <td>ADULTOS</td>\n",
       "      <td>1</td>\n",
       "    </tr>\n",
       "    <tr>\n",
       "      <th>528878</th>\n",
       "      <td>VICHADA</td>\n",
       "      <td>SANTA ROSALÍA</td>\n",
       "      <td>99624000</td>\n",
       "      <td>SIN EMPLEO DE ARMAS</td>\n",
       "      <td>16/02/2022</td>\n",
       "      <td>FEMENINO</td>\n",
       "      <td>ADULTOS</td>\n",
       "      <td>1</td>\n",
       "    </tr>\n",
       "    <tr>\n",
       "      <th>528879</th>\n",
       "      <td>VICHADA</td>\n",
       "      <td>SANTA ROSALÍA</td>\n",
       "      <td>99624000</td>\n",
       "      <td>SIN EMPLEO DE ARMAS</td>\n",
       "      <td>6/03/2022</td>\n",
       "      <td>FEMENINO</td>\n",
       "      <td>ADULTOS</td>\n",
       "      <td>1</td>\n",
       "    </tr>\n",
       "  </tbody>\n",
       "</table>\n",
       "<p>527269 rows × 8 columns</p>\n",
       "</div>"
      ],
      "text/plain": [
       "        DEPARTAMENTO            MUNICIPIO CODIGO DANE  \\\n",
       "0          ATLÁNTICO    BARRANQUILLA (CT)     8001000   \n",
       "1             BOYACÁ              DUITAMA    15238000   \n",
       "2            CAQUETÁ          PUERTO RICO    18592000   \n",
       "3           CASANARE                 MANÍ    85139000   \n",
       "4       CUNDINAMARCA     BOGOTÁ D.C. (CT)    11001000   \n",
       "...              ...                  ...         ...   \n",
       "528875       VICHADA  PUERTO CARREÑO (CT)    99001000   \n",
       "528876       VICHADA        SANTA ROSALÍA    99624000   \n",
       "528877       VICHADA        SANTA ROSALÍA    99624000   \n",
       "528878       VICHADA        SANTA ROSALÍA    99624000   \n",
       "528879       VICHADA        SANTA ROSALÍA    99624000   \n",
       "\n",
       "                       ARMAS MEDIOS FECHA HECHO     GENERO GRUPO ETARIO  \\\n",
       "0       ARMA BLANCA / CORTOPUNZANTE   1/01/2010  MASCULINO      ADULTOS   \n",
       "1       ARMA BLANCA / CORTOPUNZANTE   1/01/2010   FEMENINO      ADULTOS   \n",
       "2       ARMA BLANCA / CORTOPUNZANTE   1/01/2010  MASCULINO      ADULTOS   \n",
       "3       ARMA BLANCA / CORTOPUNZANTE   1/01/2010   FEMENINO      ADULTOS   \n",
       "4       ARMA BLANCA / CORTOPUNZANTE   1/01/2010   FEMENINO      ADULTOS   \n",
       "...                             ...         ...        ...          ...   \n",
       "528875          SIN EMPLEO DE ARMAS  17/04/2022   FEMENINO      ADULTOS   \n",
       "528876          SIN EMPLEO DE ARMAS  18/01/2022   FEMENINO      MENORES   \n",
       "528877          SIN EMPLEO DE ARMAS  12/02/2022   FEMENINO      ADULTOS   \n",
       "528878          SIN EMPLEO DE ARMAS  16/02/2022   FEMENINO      ADULTOS   \n",
       "528879          SIN EMPLEO DE ARMAS   6/03/2022   FEMENINO      ADULTOS   \n",
       "\n",
       "        CANTIDAD  \n",
       "0              1  \n",
       "1              1  \n",
       "2              1  \n",
       "3              1  \n",
       "4              1  \n",
       "...          ...  \n",
       "528875         1  \n",
       "528876         1  \n",
       "528877         1  \n",
       "528878         1  \n",
       "528879         1  \n",
       "\n",
       "[527269 rows x 8 columns]"
      ]
     },
     "execution_count": 20,
     "metadata": {},
     "output_type": "execute_result"
    }
   ],
   "source": [
    "violencia_intrafamiliar_df = violencia_intrafamiliar_df.dropna()\n",
    "violencia_intrafamiliar_df"
   ]
  },
  {
   "cell_type": "code",
   "execution_count": 22,
   "id": "18dfa1da-63f8-414d-a4cf-d60402411ea4",
   "metadata": {},
   "outputs": [
    {
     "data": {
      "text/plain": [
       "DEPARTAMENTO    0\n",
       "MUNICIPIO       0\n",
       "CODIGO DANE     0\n",
       "ARMAS MEDIOS    0\n",
       "FECHA HECHO     0\n",
       "GENERO          0\n",
       "GRUPO ETARIO    0\n",
       "CANTIDAD        0\n",
       "dtype: int64"
      ]
     },
     "execution_count": 22,
     "metadata": {},
     "output_type": "execute_result"
    }
   ],
   "source": [
    "violencia_intrafamiliar_df.isna().sum()"
   ]
  },
  {
   "cell_type": "markdown",
   "id": "36510ff4-2a04-477e-95ec-bf81b7d27927",
   "metadata": {},
   "source": [
    "## 2.2. Cambio del formato de fecha a datetime"
   ]
  },
  {
   "cell_type": "code",
   "execution_count": 23,
   "id": "44029c6d-a2b0-4d4a-b1de-1e881b322caf",
   "metadata": {},
   "outputs": [
    {
     "data": {
      "text/plain": [
       "0          1/01/2010\n",
       "1          1/01/2010\n",
       "2          1/01/2010\n",
       "3          1/01/2010\n",
       "4          1/01/2010\n",
       "             ...    \n",
       "528875    17/04/2022\n",
       "528876    18/01/2022\n",
       "528877    12/02/2022\n",
       "528878    16/02/2022\n",
       "528879     6/03/2022\n",
       "Name: FECHA HECHO, Length: 527269, dtype: object"
      ]
     },
     "execution_count": 23,
     "metadata": {},
     "output_type": "execute_result"
    }
   ],
   "source": [
    "violencia_intrafamiliar_df['FECHA HECHO']"
   ]
  },
  {
   "cell_type": "code",
   "execution_count": 25,
   "id": "8a73a4ff-56eb-4e18-bec2-52f5a936299e",
   "metadata": {},
   "outputs": [
    {
     "name": "stderr",
     "output_type": "stream",
     "text": [
      "C:\\Users\\crist\\AppData\\Local\\Temp\\ipykernel_19644\\3357321814.py:1: SettingWithCopyWarning: \n",
      "A value is trying to be set on a copy of a slice from a DataFrame.\n",
      "Try using .loc[row_indexer,col_indexer] = value instead\n",
      "\n",
      "See the caveats in the documentation: https://pandas.pydata.org/pandas-docs/stable/user_guide/indexing.html#returning-a-view-versus-a-copy\n",
      "  violencia_intrafamiliar_df['FECHA HECHO'] = pd.to_datetime(violencia_intrafamiliar_df['FECHA HECHO'])\n"
     ]
    }
   ],
   "source": [
    "violencia_intrafamiliar_df['FECHA HECHO'] = pd.to_datetime(violencia_intrafamiliar_df['FECHA HECHO'])"
   ]
  },
  {
   "cell_type": "code",
   "execution_count": 27,
   "id": "c2e9c59f-b168-41f5-8b2a-8e73fbd1cb9b",
   "metadata": {},
   "outputs": [
    {
     "data": {
      "text/plain": [
       "DEPARTAMENTO            object\n",
       "MUNICIPIO               object\n",
       "CODIGO DANE             object\n",
       "ARMAS MEDIOS            object\n",
       "FECHA HECHO     datetime64[ns]\n",
       "GENERO                  object\n",
       "GRUPO ETARIO            object\n",
       "CANTIDAD                 int64\n",
       "dtype: object"
      ]
     },
     "execution_count": 27,
     "metadata": {},
     "output_type": "execute_result"
    }
   ],
   "source": [
    "violencia_intrafamiliar_df.dtypes"
   ]
  },
  {
   "cell_type": "code",
   "execution_count": 28,
   "id": "2404e662-599a-4d50-9236-26db0b7ca767",
   "metadata": {},
   "outputs": [
    {
     "data": {
      "text/plain": [
       "0        2010-01-01\n",
       "1        2010-01-01\n",
       "2        2010-01-01\n",
       "3        2010-01-01\n",
       "4        2010-01-01\n",
       "            ...    \n",
       "528875   2022-04-17\n",
       "528876   2022-01-18\n",
       "528877   2022-12-02\n",
       "528878   2022-02-16\n",
       "528879   2022-06-03\n",
       "Name: FECHA HECHO, Length: 527269, dtype: datetime64[ns]"
      ]
     },
     "execution_count": 28,
     "metadata": {},
     "output_type": "execute_result"
    }
   ],
   "source": [
    "violencia_intrafamiliar_df['FECHA HECHO']"
   ]
  },
  {
   "cell_type": "markdown",
   "id": "11a17446-4107-49f6-8c27-b34928653318",
   "metadata": {},
   "source": [
    "# 3. Almacenamiento de los datos procesados"
   ]
  },
  {
   "cell_type": "code",
   "execution_count": 29,
   "id": "d6541ff4-2346-4e51-a032-ffc2245cc993",
   "metadata": {},
   "outputs": [],
   "source": [
    "violencia_intrafamiliar_df.to_csv('../../Data/DATOS_LIMPIOS/violencia_intrafamiliar.csv', encoding='utf-8', index=False)"
   ]
  },
  {
   "cell_type": "code",
   "execution_count": null,
   "id": "79bed2bd-1466-45ba-8a91-07cea12f0355",
   "metadata": {},
   "outputs": [],
   "source": []
  }
 ],
 "metadata": {
  "kernelspec": {
   "display_name": "gestion de datos",
   "language": "python",
   "name": "gestion_de_datos"
  },
  "language_info": {
   "codemirror_mode": {
    "name": "ipython",
    "version": 3
   },
   "file_extension": ".py",
   "mimetype": "text/x-python",
   "name": "python",
   "nbconvert_exporter": "python",
   "pygments_lexer": "ipython3",
   "version": "3.8.13"
  }
 },
 "nbformat": 4,
 "nbformat_minor": 5
}
